{
 "cells": [
  {
   "cell_type": "markdown",
   "id": "2bd4d7ba-bd19-4cb2-8fc6-ffd37e1c71f3",
   "metadata": {},
   "source": [
    "### 1. Demonstrate three different methods for creating identical 2D arrays in NumPy. Provide the code for each method and the final output after each method"
   ]
  },
  {
   "cell_type": "code",
   "execution_count": 9,
   "id": "4579d312-fb3f-4767-baf4-888bd3c80e1e",
   "metadata": {},
   "outputs": [],
   "source": [
    "import numpy as np"
   ]
  },
  {
   "cell_type": "markdown",
   "id": "289fcec3-0588-42f8-9146-e6089d37024e",
   "metadata": {},
   "source": [
    "#### 1. Method 1: Using np.array()"
   ]
  },
  {
   "cell_type": "code",
   "execution_count": 10,
   "id": "7d90c8a8-5bd9-457b-93c5-adbafb052c7d",
   "metadata": {},
   "outputs": [],
   "source": [
    "arr1 = np.array([[11,92,63],[74,83,16],[33,77,89]])"
   ]
  },
  {
   "cell_type": "code",
   "execution_count": 11,
   "id": "a011c200-427a-460f-8023-78a98eaecb2a",
   "metadata": {},
   "outputs": [
    {
     "data": {
      "text/plain": [
       "array([[11, 92, 63],\n",
       "       [74, 83, 16],\n",
       "       [33, 77, 89]])"
      ]
     },
     "execution_count": 11,
     "metadata": {},
     "output_type": "execute_result"
    }
   ],
   "source": [
    "arr1  # print a 2-d array or a matrix"
   ]
  },
  {
   "cell_type": "code",
   "execution_count": 13,
   "id": "f0da2cc9-a48d-4292-90ed-cbb38886cbbc",
   "metadata": {},
   "outputs": [
    {
     "data": {
      "text/plain": [
       "2"
      ]
     },
     "execution_count": 13,
     "metadata": {},
     "output_type": "execute_result"
    }
   ],
   "source": [
    "arr1.ndim # get the dimension of the array"
   ]
  },
  {
   "cell_type": "markdown",
   "id": "24e7a904-1e41-40f3-bf8a-a8f763aced17",
   "metadata": {},
   "source": [
    "#### 2. Method 2: Using np.matrix()----> specialised 2D Array or matrix"
   ]
  },
  {
   "cell_type": "code",
   "execution_count": 15,
   "id": "92abbf3d-583f-40f3-bbf2-30ce966f8376",
   "metadata": {},
   "outputs": [
    {
     "data": {
      "text/plain": [
       "matrix([[1, 2, 3, 4]])"
      ]
     },
     "execution_count": 15,
     "metadata": {},
     "output_type": "execute_result"
    }
   ],
   "source": [
    "M1 = np.matrix([1,2,3,4])\n",
    "M1  # 2-D array"
   ]
  },
  {
   "cell_type": "code",
   "execution_count": 16,
   "id": "eba33ee5-ba6c-4ccf-985d-e8dbfb7b3c11",
   "metadata": {},
   "outputs": [
    {
     "data": {
      "text/plain": [
       "2"
      ]
     },
     "execution_count": 16,
     "metadata": {},
     "output_type": "execute_result"
    }
   ],
   "source": [
    "M1.ndim"
   ]
  },
  {
   "cell_type": "code",
   "execution_count": 20,
   "id": "570a0186-2d04-4187-85d6-dea4addca63b",
   "metadata": {},
   "outputs": [
    {
     "data": {
      "text/plain": [
       "matrix([[1.2, 2.8, 3. ],\n",
       "        [4.5, 5.6, 6. ],\n",
       "        [7.1, 8. , 9. ]])"
      ]
     },
     "execution_count": 20,
     "metadata": {},
     "output_type": "execute_result"
    }
   ],
   "source": [
    "M2 = np.matrix([[1.2,2.8,3],[4.5,5.6,6],[7.1,8,9]])\n",
    "M2  # 2-D array"
   ]
  },
  {
   "cell_type": "code",
   "execution_count": 21,
   "id": "8297ff7d-5854-444c-9216-a42b0d118a59",
   "metadata": {},
   "outputs": [
    {
     "data": {
      "text/plain": [
       "2"
      ]
     },
     "execution_count": 21,
     "metadata": {},
     "output_type": "execute_result"
    }
   ],
   "source": [
    "M2.ndim"
   ]
  },
  {
   "cell_type": "code",
   "execution_count": 23,
   "id": "2e49040d-380d-4210-aaee-5aee1c410584",
   "metadata": {},
   "outputs": [
    {
     "data": {
      "text/plain": [
       "matrix([[1, 2],\n",
       "        [3, 4]])"
      ]
     },
     "execution_count": 23,
     "metadata": {},
     "output_type": "execute_result"
    }
   ],
   "source": [
    "# Another way\n",
    "a = np.matrix('1 2; 3 4')\n",
    "a"
   ]
  },
  {
   "cell_type": "markdown",
   "id": "5a93639c-938d-4fa4-9bdf-3e759cbcdd8a",
   "metadata": {},
   "source": [
    "#### 3. Method 3: Using np.fromfunction()\n",
    "\n",
    "Construct an array by executing a function over each coordinate.\n",
    "\n",
    "The resulting array therefore has a value ``fn(x, y, z)`` at\n",
    "coordinate ``(x, y, z)``."
   ]
  },
  {
   "cell_type": "code",
   "execution_count": 30,
   "id": "4161b43b-ee03-4922-941e-a6d476655a3b",
   "metadata": {},
   "outputs": [
    {
     "data": {
      "text/plain": [
       "array([[0., 0.],\n",
       "       [1., 1.]])"
      ]
     },
     "execution_count": 30,
     "metadata": {},
     "output_type": "execute_result"
    }
   ],
   "source": [
    "A= np.fromfunction(lambda i, j: i, (2, 2), dtype=float)\n",
    "A"
   ]
  },
  {
   "cell_type": "code",
   "execution_count": 28,
   "id": "4a8dd84e-0535-4eeb-b9d5-63ecfd88858a",
   "metadata": {},
   "outputs": [
    {
     "data": {
      "text/plain": [
       "array([[0., 2., 4.],\n",
       "       [2., 4., 6.],\n",
       "       [4., 6., 8.]])"
      ]
     },
     "execution_count": 28,
     "metadata": {},
     "output_type": "execute_result"
    }
   ],
   "source": [
    "B = np.fromfunction(lambda i,j: i*2+j*2, (3,3))\n",
    "B"
   ]
  },
  {
   "cell_type": "code",
   "execution_count": 34,
   "id": "355ba5d6-bd58-482f-afc6-105a006d72da",
   "metadata": {},
   "outputs": [
    {
     "data": {
      "text/plain": [
       "array([[ 0,  0,  0],\n",
       "       [ 0,  4,  8],\n",
       "       [ 0,  8, 16]])"
      ]
     },
     "execution_count": 34,
     "metadata": {},
     "output_type": "execute_result"
    }
   ],
   "source": [
    "C = np.fromfunction(lambda i,j: (i*2) * (j*2), (3,3), dtype=int)\n",
    "C"
   ]
  },
  {
   "cell_type": "code",
   "execution_count": 37,
   "id": "97c2689b-bd00-4e1b-962e-ab0b4549facc",
   "metadata": {},
   "outputs": [
    {
     "name": "stdout",
     "output_type": "stream",
     "text": [
      "Dimension of A :  2\n",
      "Dimension of B :  2\n",
      "Dimension of C :  2\n"
     ]
    }
   ],
   "source": [
    "print (\"Dimension of A : \", A.ndim) # Dimensions of each Array\n",
    "print (\"Dimension of B : \", B.ndim)\n",
    "print (\"Dimension of C : \", C.ndim)"
   ]
  },
  {
   "cell_type": "markdown",
   "id": "0d56bb6b-d038-4f37-9d6b-af805e6979c4",
   "metadata": {},
   "source": [
    "### 2. Using the Numpy function, generate an array of 100 evenly spaced numbers Between 1 and 10 and Reshape that 1D array into a 2D array."
   ]
  },
  {
   "cell_type": "markdown",
   "id": "e6d0f2c3-2e06-42c1-857b-d2a593248e91",
   "metadata": {},
   "source": [
    "#### 1. Method1 : arange()\n",
    "\n",
    "arange([start,] stop[, step,], dtype=None, *, like=None)\n",
    "\n",
    "Return evenly spaced values within a given interval."
   ]
  },
  {
   "cell_type": "code",
   "execution_count": 59,
   "id": "21931862-204c-432c-b531-a545fa8cd21e",
   "metadata": {},
   "outputs": [
    {
     "data": {
      "text/plain": [
       "array([1.  , 1.09, 1.18, 1.27, 1.36, 1.45, 1.54, 1.63, 1.72, 1.81, 1.9 ,\n",
       "       1.99, 2.08, 2.17, 2.26, 2.35, 2.44, 2.53, 2.62, 2.71, 2.8 , 2.89,\n",
       "       2.98, 3.07, 3.16, 3.25, 3.34, 3.43, 3.52, 3.61, 3.7 , 3.79, 3.88,\n",
       "       3.97, 4.06, 4.15, 4.24, 4.33, 4.42, 4.51, 4.6 , 4.69, 4.78, 4.87,\n",
       "       4.96, 5.05, 5.14, 5.23, 5.32, 5.41, 5.5 , 5.59, 5.68, 5.77, 5.86,\n",
       "       5.95, 6.04, 6.13, 6.22, 6.31, 6.4 , 6.49, 6.58, 6.67, 6.76, 6.85,\n",
       "       6.94, 7.03, 7.12, 7.21, 7.3 , 7.39, 7.48, 7.57, 7.66, 7.75, 7.84,\n",
       "       7.93, 8.02, 8.11, 8.2 , 8.29, 8.38, 8.47, 8.56, 8.65, 8.74, 8.83,\n",
       "       8.92, 9.01, 9.1 , 9.19, 9.28, 9.37, 9.46, 9.55, 9.64, 9.73, 9.82,\n",
       "       9.91])"
      ]
     },
     "execution_count": 59,
     "metadata": {},
     "output_type": "execute_result"
    }
   ],
   "source": [
    "arr3 = np.arange(1,10,0.09)\n",
    "arr3"
   ]
  },
  {
   "cell_type": "code",
   "execution_count": 56,
   "id": "c84d201f-d566-477d-8675-e1c864d934f8",
   "metadata": {},
   "outputs": [
    {
     "data": {
      "text/plain": [
       "100"
      ]
     },
     "execution_count": 56,
     "metadata": {},
     "output_type": "execute_result"
    }
   ],
   "source": [
    "np.size(arr3)"
   ]
  },
  {
   "cell_type": "markdown",
   "id": "c69b87b4-73c3-4025-8c30-1c296bb0a5b7",
   "metadata": {},
   "source": [
    "#### 2. Method2 :np.linspace()\n",
    "\n",
    "Return evenly spaced numbers over a specified interval.\r\n",
    "\r\n",
    "Returns `num` evenly spaced samples, calculated over the\r\n",
    "interval [`start`, `stop`]."
   ]
  },
  {
   "cell_type": "code",
   "execution_count": 60,
   "id": "4b6fa114-480a-460b-be28-8ad4178e5c86",
   "metadata": {},
   "outputs": [
    {
     "data": {
      "text/plain": [
       "array([ 1.        ,  1.09090909,  1.18181818,  1.27272727,  1.36363636,\n",
       "        1.45454545,  1.54545455,  1.63636364,  1.72727273,  1.81818182,\n",
       "        1.90909091,  2.        ,  2.09090909,  2.18181818,  2.27272727,\n",
       "        2.36363636,  2.45454545,  2.54545455,  2.63636364,  2.72727273,\n",
       "        2.81818182,  2.90909091,  3.        ,  3.09090909,  3.18181818,\n",
       "        3.27272727,  3.36363636,  3.45454545,  3.54545455,  3.63636364,\n",
       "        3.72727273,  3.81818182,  3.90909091,  4.        ,  4.09090909,\n",
       "        4.18181818,  4.27272727,  4.36363636,  4.45454545,  4.54545455,\n",
       "        4.63636364,  4.72727273,  4.81818182,  4.90909091,  5.        ,\n",
       "        5.09090909,  5.18181818,  5.27272727,  5.36363636,  5.45454545,\n",
       "        5.54545455,  5.63636364,  5.72727273,  5.81818182,  5.90909091,\n",
       "        6.        ,  6.09090909,  6.18181818,  6.27272727,  6.36363636,\n",
       "        6.45454545,  6.54545455,  6.63636364,  6.72727273,  6.81818182,\n",
       "        6.90909091,  7.        ,  7.09090909,  7.18181818,  7.27272727,\n",
       "        7.36363636,  7.45454545,  7.54545455,  7.63636364,  7.72727273,\n",
       "        7.81818182,  7.90909091,  8.        ,  8.09090909,  8.18181818,\n",
       "        8.27272727,  8.36363636,  8.45454545,  8.54545455,  8.63636364,\n",
       "        8.72727273,  8.81818182,  8.90909091,  9.        ,  9.09090909,\n",
       "        9.18181818,  9.27272727,  9.36363636,  9.45454545,  9.54545455,\n",
       "        9.63636364,  9.72727273,  9.81818182,  9.90909091, 10.        ])"
      ]
     },
     "execution_count": 60,
     "metadata": {},
     "output_type": "execute_result"
    }
   ],
   "source": [
    "arr4 = np.linspace(1,10,100)\n",
    "arr4 "
   ]
  },
  {
   "cell_type": "code",
   "execution_count": 64,
   "id": "fe61baa1-6271-485f-ae0e-20ea6825de07",
   "metadata": {},
   "outputs": [
    {
     "data": {
      "text/plain": [
       "100"
      ]
     },
     "execution_count": 64,
     "metadata": {},
     "output_type": "execute_result"
    }
   ],
   "source": [
    "arr4.size"
   ]
  },
  {
   "cell_type": "markdown",
   "id": "8a8f4eff-b567-46ea-9f30-01d45ab52d71",
   "metadata": {},
   "source": [
    "#### 3. Method 3 : np.logspace(), base =10\n",
    "\n",
    "Return numbers spaced evenly on a log scale(base 10)."
   ]
  },
  {
   "cell_type": "code",
   "execution_count": 62,
   "id": "6f2e5604-e9d0-4cc9-8c59-ce39d04a280a",
   "metadata": {},
   "outputs": [
    {
     "data": {
      "text/plain": [
       "array([1.00000000e+01, 1.23284674e+01, 1.51991108e+01, 1.87381742e+01,\n",
       "       2.31012970e+01, 2.84803587e+01, 3.51119173e+01, 4.32876128e+01,\n",
       "       5.33669923e+01, 6.57933225e+01, 8.11130831e+01, 1.00000000e+02,\n",
       "       1.23284674e+02, 1.51991108e+02, 1.87381742e+02, 2.31012970e+02,\n",
       "       2.84803587e+02, 3.51119173e+02, 4.32876128e+02, 5.33669923e+02,\n",
       "       6.57933225e+02, 8.11130831e+02, 1.00000000e+03, 1.23284674e+03,\n",
       "       1.51991108e+03, 1.87381742e+03, 2.31012970e+03, 2.84803587e+03,\n",
       "       3.51119173e+03, 4.32876128e+03, 5.33669923e+03, 6.57933225e+03,\n",
       "       8.11130831e+03, 1.00000000e+04, 1.23284674e+04, 1.51991108e+04,\n",
       "       1.87381742e+04, 2.31012970e+04, 2.84803587e+04, 3.51119173e+04,\n",
       "       4.32876128e+04, 5.33669923e+04, 6.57933225e+04, 8.11130831e+04,\n",
       "       1.00000000e+05, 1.23284674e+05, 1.51991108e+05, 1.87381742e+05,\n",
       "       2.31012970e+05, 2.84803587e+05, 3.51119173e+05, 4.32876128e+05,\n",
       "       5.33669923e+05, 6.57933225e+05, 8.11130831e+05, 1.00000000e+06,\n",
       "       1.23284674e+06, 1.51991108e+06, 1.87381742e+06, 2.31012970e+06,\n",
       "       2.84803587e+06, 3.51119173e+06, 4.32876128e+06, 5.33669923e+06,\n",
       "       6.57933225e+06, 8.11130831e+06, 1.00000000e+07, 1.23284674e+07,\n",
       "       1.51991108e+07, 1.87381742e+07, 2.31012970e+07, 2.84803587e+07,\n",
       "       3.51119173e+07, 4.32876128e+07, 5.33669923e+07, 6.57933225e+07,\n",
       "       8.11130831e+07, 1.00000000e+08, 1.23284674e+08, 1.51991108e+08,\n",
       "       1.87381742e+08, 2.31012970e+08, 2.84803587e+08, 3.51119173e+08,\n",
       "       4.32876128e+08, 5.33669923e+08, 6.57933225e+08, 8.11130831e+08,\n",
       "       1.00000000e+09, 1.23284674e+09, 1.51991108e+09, 1.87381742e+09,\n",
       "       2.31012970e+09, 2.84803587e+09, 3.51119173e+09, 4.32876128e+09,\n",
       "       5.33669923e+09, 6.57933225e+09, 8.11130831e+09, 1.00000000e+10])"
      ]
     },
     "execution_count": 62,
     "metadata": {},
     "output_type": "execute_result"
    }
   ],
   "source": [
    "arr5 = np.logspace(1,10,100)\n",
    "arr5"
   ]
  },
  {
   "cell_type": "code",
   "execution_count": 63,
   "id": "03548f84-59b7-4ccd-b7ec-f6d32d5d3557",
   "metadata": {},
   "outputs": [
    {
     "data": {
      "text/plain": [
       "100"
      ]
     },
     "execution_count": 63,
     "metadata": {},
     "output_type": "execute_result"
    }
   ],
   "source": [
    "arr5. size"
   ]
  },
  {
   "cell_type": "code",
   "execution_count": 66,
   "id": "3bacfbd5-a499-4def-b363-201beb7a741e",
   "metadata": {},
   "outputs": [],
   "source": [
    "#### 3.2 Method3 : np.logspace() , base =2\n",
    "arr6 = np.logspace(1,10,100, base =2)\n",
    "#arr6"
   ]
  },
  {
   "cell_type": "markdown",
   "id": "a6589b9a-1f7f-48ef-9a52-861de990cad4",
   "metadata": {},
   "source": [
    "### 3. Explain the following terms:"
   ]
  },
  {
   "cell_type": "markdown",
   "id": "431256a5-deba-44b0-a69c-5f11f55facd3",
   "metadata": {},
   "source": [
    "#### 3.1 The difference in np.array, np.asarray and np.asanyarray."
   ]
  },
  {
   "cell_type": "markdown",
   "id": "ebb96f93-e9fc-4bd0-bfa5-9aae5c3f8fbf",
   "metadata": {},
   "source": [
    "#### 1. np.array()\n",
    "* Creates a new NumPy array\n",
    "* Always creates a new array, even if the input is an array\n",
    "* Example : When we need a new array regardless of input\n",
    "\n",
    "#### 2.  np.asarray()\n",
    "* Converts input to an array\n",
    "* Does not create a copy if input is already an ndarray\n",
    "* Example : When avoiding unnecessary copying\n",
    "\n",
    "#### 2.  np.asanyarray()\n",
    "* Converts input to an array or its subclass\n",
    "* Does not create a copy if input is ndarray or subclass\n",
    "* Example : When preserving subclass information"
   ]
  },
  {
   "cell_type": "markdown",
   "id": "278e4fdd-ca18-4c96-b0a7-7d0f1fa360c2",
   "metadata": {},
   "source": [
    "#### 1. np.array()"
   ]
  },
  {
   "cell_type": "code",
   "execution_count": 70,
   "id": "a89494f6-b316-4e5f-99a9-9e6b8527dcf2",
   "metadata": {},
   "outputs": [
    {
     "data": {
      "text/plain": [
       "array([['1', 'seena', 'Mdx', 'Dubai'],\n",
       "       ['2', 'Nechu', 'DMU', 'Media City']], dtype='<U11')"
      ]
     },
     "execution_count": 70,
     "metadata": {},
     "output_type": "execute_result"
    }
   ],
   "source": [
    "list2 = [[1, \"seena\", \"Mdx\", \"Dubai\"],[2,\"Nechu\", \"DMU\",\"Media City\"]]  # a list containing different data types\n",
    "arr11 = np.array(list2) # convert list into an array(homogeneous data types-here its 'string')\n",
    "arr11   # here np.array() converts a list into an array "
   ]
  },
  {
   "cell_type": "markdown",
   "id": "651e425d-2c77-4ce5-8e47-f7c6431a1cd0",
   "metadata": {},
   "source": [
    "### 2. np.asarray()"
   ]
  },
  {
   "cell_type": "code",
   "execution_count": 83,
   "id": "f7443ab4-67ab-4e38-8c5b-81ab4f4f6d1c",
   "metadata": {},
   "outputs": [
    {
     "data": {
      "text/plain": [
       "array([['1', 'seena', 'Mdx', 'Dubai'],\n",
       "       ['2', 'Nechu', 'DMU', 'Media City']], dtype='<U11')"
      ]
     },
     "execution_count": 83,
     "metadata": {},
     "output_type": "execute_result"
    }
   ],
   "source": [
    "arr12 = np.asarray(arr11)\n",
    "arr12   # here, asarray convert the array \"arr11\"(which is already an array) to an array."
   ]
  },
  {
   "cell_type": "code",
   "execution_count": 85,
   "id": "0871c9e1-61ae-4372-8171-5aab6773ef79",
   "metadata": {},
   "outputs": [
    {
     "data": {
      "text/plain": [
       "array([[5, 6],\n",
       "       [7, 8]])"
      ]
     },
     "execution_count": 85,
     "metadata": {},
     "output_type": "execute_result"
    }
   ],
   "source": [
    "t = ([5,6],[7,8])  # Tuple\n",
    "arr13 = np.asarray(t)  # Convert a tuple into an array\n",
    "arr13"
   ]
  },
  {
   "cell_type": "code",
   "execution_count": 87,
   "id": "25340b46-b904-441f-9b1d-f84e0b7d1671",
   "metadata": {},
   "outputs": [
    {
     "data": {
      "text/plain": [
       "array([[5, 6],\n",
       "       [7, 8]])"
      ]
     },
     "execution_count": 87,
     "metadata": {},
     "output_type": "execute_result"
    }
   ],
   "source": [
    "l = [[5,6],[7,8]]  # List \n",
    "arr13 = np.asarray(l)  # Convert a list into an array\n",
    "arr13"
   ]
  },
  {
   "cell_type": "code",
   "execution_count": 102,
   "id": "df3085d4-56d0-44c7-8dbc-ed443fdd4f71",
   "metadata": {},
   "outputs": [
    {
     "data": {
      "text/plain": [
       "array([[1, 2, 3, 4],\n",
       "       [5, 6, 7, 8]])"
      ]
     },
     "execution_count": 102,
     "metadata": {},
     "output_type": "execute_result"
    }
   ],
   "source": [
    "m10  = np.matrix([[1,2,3,4],[5,6,7,8]]) # Matrix\n",
    "m20 = np.asarray(m10)  # Convert a matrix into an array\n",
    "m20"
   ]
  },
  {
   "cell_type": "markdown",
   "id": "f952c967-3112-4b54-9c80-d38029ed94ff",
   "metadata": {},
   "source": [
    "### 3. np.asanyarray()"
   ]
  },
  {
   "cell_type": "code",
   "execution_count": 103,
   "id": "46220e36-a2e2-4093-b66e-e2d92cdff070",
   "metadata": {},
   "outputs": [
    {
     "data": {
      "text/plain": [
       "array([['1', 'seena', 'Mdx', 'Dubai'],\n",
       "       ['2', 'Nechu', 'DMU', 'Media City']], dtype='<U11')"
      ]
     },
     "execution_count": 103,
     "metadata": {},
     "output_type": "execute_result"
    }
   ],
   "source": [
    "arr12 = np.asanyarray(arr11)\n",
    "arr12   # here, asanyarray convert the array \"arr11\"(which is already an array) to an array."
   ]
  },
  {
   "cell_type": "code",
   "execution_count": 104,
   "id": "4890fd2d-6449-459c-9b88-14d3496263d8",
   "metadata": {},
   "outputs": [
    {
     "data": {
      "text/plain": [
       "array([[5, 6],\n",
       "       [7, 8]])"
      ]
     },
     "execution_count": 104,
     "metadata": {},
     "output_type": "execute_result"
    }
   ],
   "source": [
    "t1 = ([5,6],[7,8])  # Tuple\n",
    "arr13 = np.asanyarray(t1)  # Convert a tuple into an array\n",
    "arr13"
   ]
  },
  {
   "cell_type": "code",
   "execution_count": 105,
   "id": "7f62e337-e9ea-4eb9-b27c-c4fa3a46e640",
   "metadata": {},
   "outputs": [
    {
     "data": {
      "text/plain": [
       "matrix([[1, 2, 3, 4],\n",
       "        [5, 6, 7, 8]])"
      ]
     },
     "execution_count": 105,
     "metadata": {},
     "output_type": "execute_result"
    }
   ],
   "source": [
    "m101  = np.matrix([[1,2,3,4],[5,6,7,8]]) # Matrix\n",
    "m201 = np.asanyarray(m101)  # Convert a matrix into an array\n",
    "m201"
   ]
  },
  {
   "cell_type": "markdown",
   "id": "75efa8dd-c31b-4582-a2db-9b6d90278819",
   "metadata": {},
   "source": [
    "#### 3.2 The difference between Deep copy and shallow copy."
   ]
  },
  {
   "cell_type": "markdown",
   "id": "206082af-263f-432a-9367-cb3f530fb56d",
   "metadata": {},
   "source": [
    "Shallow Copy : if both arrays are referencing to the same memory location, any change in the values of one array will automatically be reflected in the other array.\n"
   ]
  },
  {
   "cell_type": "code",
   "execution_count": 113,
   "id": "9da93d31-065f-42ee-9b06-7b7a41a5ada1",
   "metadata": {},
   "outputs": [
    {
     "data": {
      "text/plain": [
       "[300, 20, 30, 40]"
      ]
     },
     "execution_count": 113,
     "metadata": {},
     "output_type": "execute_result"
    }
   ],
   "source": [
    "a = [10,20,30,40]  # Create an array named \"a\"\n",
    "b = a # Assign the array \"a\" to \"b\". (so both \"a\" and \"b\" are referenced to the same memory location)\n",
    "b[0] = 300 # changing the first index value of b as 300, so automatically array 'a' is changed.\n",
    "# Because 'a' also references the same memory location. This is called a Shallow copy\n",
    "a"
   ]
  },
  {
   "cell_type": "code",
   "execution_count": 112,
   "id": "bc2274a5-25cc-46b7-bce6-474d7863c7ef",
   "metadata": {},
   "outputs": [
    {
     "data": {
      "text/plain": [
       "[300, 20, 30, 40]"
      ]
     },
     "execution_count": 112,
     "metadata": {},
     "output_type": "execute_result"
    }
   ],
   "source": [
    "b  # Here Change in \"a\" reflected to \"b\""
   ]
  },
  {
   "cell_type": "markdown",
   "id": "47dd0908-e38a-4ff4-8bbb-c9534b20559b",
   "metadata": {},
   "source": [
    "Deep Copy : If a copy of the array is created, then any changes in the original array will not affect its copy because the references of both arrays point to different memory locations."
   ]
  },
  {
   "cell_type": "code",
   "execution_count": 114,
   "id": "f6e83ea6-5fcc-4cc4-9f99-c9931699599e",
   "metadata": {},
   "outputs": [
    {
     "data": {
      "text/plain": [
       "[10, 20, 30, 40]"
      ]
     },
     "execution_count": 114,
     "metadata": {},
     "output_type": "execute_result"
    }
   ],
   "source": [
    "a = [10,20,30,40]  # Create an array named \"a\"\n",
    "b = a.copy() # instead of assigning the values make a copy of \"a\". (so \"a\" and \"b\" are referenced in different memory locations)\n",
    "b[0] = 300 # changing the first index value of b as 300, so it will not affect \"b\".\n",
    "# Because 'b' also references a different memory location. This is called a Deep copy\n",
    "a"
   ]
  },
  {
   "cell_type": "code",
   "execution_count": 115,
   "id": "164ace0b-b467-4846-9afa-d305cd8e56f8",
   "metadata": {},
   "outputs": [
    {
     "data": {
      "text/plain": [
       "[300, 20, 30, 40]"
      ]
     },
     "execution_count": 115,
     "metadata": {},
     "output_type": "execute_result"
    }
   ],
   "source": [
    "b"
   ]
  },
  {
   "cell_type": "markdown",
   "id": "4a2e63a9-8218-4968-879e-453f1ed1bdc2",
   "metadata": {},
   "source": [
    "### 4. Generate a 3*3 array with random floating-point numbers between 5 and 20. Then, round each number in the array to 2 decimal places."
   ]
  },
  {
   "cell_type": "code",
   "execution_count": 121,
   "id": "8fdb7fc2-e6d2-441a-94e8-0ac7736a1af6",
   "metadata": {},
   "outputs": [
    {
     "data": {
      "text/plain": [
       "array([[14.11510685, 15.17595652, 18.32496399],\n",
       "       [14.77477316, 16.57740454,  8.24603145],\n",
       "       [10.66000885,  8.63446115, 14.50374689]])"
      ]
     },
     "execution_count": 121,
     "metadata": {},
     "output_type": "execute_result"
    }
   ],
   "source": [
    "# create a random array with random floating point numbers between 5 and 20\n",
    "rand_array = np.random.uniform(5,20,(3, 3))\n",
    "rand_array"
   ]
  },
  {
   "cell_type": "code",
   "execution_count": 122,
   "id": "850820e9-a112-4e9a-9c41-1ed63e1f5e0b",
   "metadata": {},
   "outputs": [
    {
     "data": {
      "text/plain": [
       "array([[14.12, 15.18, 18.32],\n",
       "       [14.77, 16.58,  8.25],\n",
       "       [10.66,  8.63, 14.5 ]])"
      ]
     },
     "execution_count": 122,
     "metadata": {},
     "output_type": "execute_result"
    }
   ],
   "source": [
    "# Round each value in the array to 2 decimal places\n",
    "rounded_array = np.round(rand_array, 2)\n",
    "rounded_array"
   ]
  },
  {
   "cell_type": "markdown",
   "id": "ce724edc-5a55-41aa-9444-37207f0b60b0",
   "metadata": {},
   "source": [
    "### 5. Create a NumPy array with random integers between 1 and 10 of shape (5,6). After creating the array perform the following operations:\n",
    "\n",
    " a)Extract all even integers from array.\n",
    "\n",
    " b)Extract all odd integers from array"
   ]
  },
  {
   "cell_type": "code",
   "execution_count": 128,
   "id": "e8fea4e3-f6e5-4a0f-b091-63f30093a842",
   "metadata": {},
   "outputs": [
    {
     "name": "stdout",
     "output_type": "stream",
     "text": [
      "Random array with integers between 1 and 10:\n",
      "[[ 2  4  9 10 10  1]\n",
      " [ 8  5  9 10 10  5]\n",
      " [ 5  3  7  3  6  1]\n",
      " [ 4  1  9  1  2  1]\n",
      " [ 3  9  2  4  3  9]]\n",
      "\n",
      "Even integers extracted from the array:\n",
      "[ 2  4 10 10  8 10 10  6  4  2  2  4]\n",
      "\n",
      "Odd integers extracted from the array:\n",
      "[9 1 5 9 5 5 3 7 3 1 1 9 1 1 3 9 3 9]\n"
     ]
    }
   ],
   "source": [
    "# Create a 5* 6 array with random integers between 1 and 10\n",
    "random_array = np.random.randint(1, 11, (5, 6))\n",
    "\n",
    "# Extract all even integers from the array\n",
    "even_integers = random_array[random_array % 2 == 0]\n",
    "\n",
    "# Extract all odd integers from the array\n",
    "odd_integers = random_array[random_array % 2 != 0]\n",
    "\n",
    "print(\"Random array with integers between 1 and 10:\")\n",
    "print(random_array)\n",
    "print(\"\\nEven integers extracted from the array:\")\n",
    "print(even_integers)\n",
    "print(\"\\nOdd integers extracted from the array:\")\n",
    "print(odd_integers)"
   ]
  },
  {
   "cell_type": "markdown",
   "id": "63f6422d-0a8a-495e-bc1a-c19a989bdb69",
   "metadata": {},
   "source": [
    "### 6. Create a 3D NumPy array of shape (3, 3, 3) containing random integers Between 1 and 10. Perform the following operations:\n",
    "\n",
    " a) Find the indices of the maximum values along each depth level (third axis).\n",
    "\n",
    " b) Perform element-wise multiplication of between both array."
   ]
  },
  {
   "cell_type": "code",
   "execution_count": 141,
   "id": "1a674ae1-5440-4067-8e45-98fbd1b21732",
   "metadata": {},
   "outputs": [
    {
     "data": {
      "text/plain": [
       "array([[[10,  9,  9],\n",
       "        [10,  8,  1],\n",
       "        [ 3,  6,  1]],\n",
       "\n",
       "       [[ 8,  5,  3],\n",
       "        [ 2,  7,  8],\n",
       "        [ 6,  9,  2]],\n",
       "\n",
       "       [[10, 10,  3],\n",
       "        [10,  3, 10],\n",
       "        [ 8,  4,  3]]])"
      ]
     },
     "execution_count": 141,
     "metadata": {},
     "output_type": "execute_result"
    }
   ],
   "source": [
    "# Create a 3D array of shape (3, 3, 3) with random integers between 1 and 10\n",
    "random_array = np.random.randint(1, 11, (3, 3, 3))\n",
    "random_array"
   ]
  },
  {
   "cell_type": "code",
   "execution_count": 142,
   "id": "40af7d58-c543-4d35-9e58-1ee3b3be9a28",
   "metadata": {},
   "outputs": [
    {
     "data": {
      "text/plain": [
       "array([[0, 0, 1],\n",
       "       [0, 2, 1],\n",
       "       [0, 0, 0]], dtype=int64)"
      ]
     },
     "execution_count": 142,
     "metadata": {},
     "output_type": "execute_result"
    }
   ],
   "source": [
    "# a) Find the indices of the maximum values along each depth level (third axis)\n",
    "max_indices = np.argmax(random_array, axis=2)\n",
    "max_indices"
   ]
  },
  {
   "cell_type": "code",
   "execution_count": 134,
   "id": "3ecf1506-97d0-4a5d-a389-eecf56f03d24",
   "metadata": {},
   "outputs": [
    {
     "data": {
      "text/plain": [
       "array([[[ 0,  0,  6],\n",
       "        [14,  8,  0],\n",
       "        [ 8,  7,  0]],\n",
       "\n",
       "       [[ 0,  0,  9],\n",
       "        [ 8,  4,  0],\n",
       "        [14,  3,  0]],\n",
       "\n",
       "       [[ 0,  0,  8],\n",
       "        [14, 18,  0],\n",
       "        [20,  5,  0]]], dtype=int64)"
      ]
     },
     "execution_count": 134,
     "metadata": {},
     "output_type": "execute_result"
    }
   ],
   "source": [
    "# b) Perform element-wise multiplication of between both array\n",
    "element_wise_multiplication = random_array * max_indices\n",
    "element_wise_multiplication "
   ]
  },
  {
   "cell_type": "markdown",
   "id": "5a950611-8a76-4504-9d3e-aec9be2b2c75",
   "metadata": {},
   "source": [
    "### 7.Clean and transform the 'Phone' column in the sample dataset to remove non-numeric characters and convert it to a numeric data type. Also display the table attributes and data types of each column."
   ]
  },
  {
   "cell_type": "code",
   "execution_count": 173,
   "id": "8b38b58d-74d9-49d0-9a86-1ea142412057",
   "metadata": {},
   "outputs": [
    {
     "data": {
      "text/html": [
       "<div>\n",
       "<style scoped>\n",
       "    .dataframe tbody tr th:only-of-type {\n",
       "        vertical-align: middle;\n",
       "    }\n",
       "\n",
       "    .dataframe tbody tr th {\n",
       "        vertical-align: top;\n",
       "    }\n",
       "\n",
       "    .dataframe thead th {\n",
       "        text-align: right;\n",
       "    }\n",
       "</style>\n",
       "<table border=\"1\" class=\"dataframe\">\n",
       "  <thead>\n",
       "    <tr style=\"text-align: right;\">\n",
       "      <th></th>\n",
       "      <th>Index</th>\n",
       "      <th>User Id</th>\n",
       "      <th>First Name</th>\n",
       "      <th>Last Name</th>\n",
       "      <th>Gender</th>\n",
       "      <th>Email</th>\n",
       "      <th>Phone</th>\n",
       "      <th>Date of birth</th>\n",
       "      <th>Job Title</th>\n",
       "      <th>Salary</th>\n",
       "    </tr>\n",
       "  </thead>\n",
       "  <tbody>\n",
       "    <tr>\n",
       "      <th>0</th>\n",
       "      <td>1</td>\n",
       "      <td>8717bbf45cCDbEe</td>\n",
       "      <td>Shelia</td>\n",
       "      <td>Mahoney</td>\n",
       "      <td>Male</td>\n",
       "      <td>pwarner@example.org</td>\n",
       "      <td>857.139.8239</td>\n",
       "      <td>27-01-2014</td>\n",
       "      <td>Probation officer</td>\n",
       "      <td>90000</td>\n",
       "    </tr>\n",
       "    <tr>\n",
       "      <th>1</th>\n",
       "      <td>2</td>\n",
       "      <td>3d5AD30A4cD38ed</td>\n",
       "      <td>Jo</td>\n",
       "      <td>Rivers</td>\n",
       "      <td>Female</td>\n",
       "      <td>fergusonkatherine@example.net</td>\n",
       "      <td>NaN</td>\n",
       "      <td>26-07-1931</td>\n",
       "      <td>Dancer</td>\n",
       "      <td>80000</td>\n",
       "    </tr>\n",
       "    <tr>\n",
       "      <th>2</th>\n",
       "      <td>3</td>\n",
       "      <td>810Ce0F276Badec</td>\n",
       "      <td>Sheryl</td>\n",
       "      <td>Lowery</td>\n",
       "      <td>Female</td>\n",
       "      <td>fhoward@example.org</td>\n",
       "      <td>(599)782-0605</td>\n",
       "      <td>25-11-2013</td>\n",
       "      <td>Copy</td>\n",
       "      <td>50000</td>\n",
       "    </tr>\n",
       "  </tbody>\n",
       "</table>\n",
       "</div>"
      ],
      "text/plain": [
       "   Index          User Id First Name Last Name  Gender  \\\n",
       "0      1  8717bbf45cCDbEe     Shelia   Mahoney    Male   \n",
       "1      2  3d5AD30A4cD38ed         Jo    Rivers  Female   \n",
       "2      3  810Ce0F276Badec     Sheryl    Lowery  Female   \n",
       "\n",
       "                           Email          Phone Date of birth  \\\n",
       "0            pwarner@example.org   857.139.8239    27-01-2014   \n",
       "1  fergusonkatherine@example.net            NaN    26-07-1931   \n",
       "2            fhoward@example.org  (599)782-0605    25-11-2013   \n",
       "\n",
       "           Job Title  Salary  \n",
       "0  Probation officer   90000  \n",
       "1             Dancer   80000  \n",
       "2               Copy   50000  "
      ]
     },
     "execution_count": 173,
     "metadata": {},
     "output_type": "execute_result"
    }
   ],
   "source": [
    "# read the dataset as a data frame\n",
    "import pandas as pd\n",
    "df = pd.read_csv(\"C:/Users/ASUS/Desktop/pwskills-asignments/Assignments/People Data.csv\")\n",
    "df.head(3)  # Display the 3 records"
   ]
  },
  {
   "cell_type": "code",
   "execution_count": 174,
   "id": "c9900295-fb18-449d-a65c-9602228a54ce",
   "metadata": {},
   "outputs": [
    {
     "data": {
      "text/plain": [
       "0               857.139.8239\n",
       "1                        NaN\n",
       "2              (599)782-0605\n",
       "3                        NaN\n",
       "4         (390)417-1635x3010\n",
       "               ...          \n",
       "995             021.775.2933\n",
       "996     001-149-710-7799x721\n",
       "997    +1-750-774-4128x33265\n",
       "998            (915)292-2254\n",
       "999       079.752.5424x67259\n",
       "Name: Phone, Length: 1000, dtype: object"
      ]
     },
     "execution_count": 174,
     "metadata": {},
     "output_type": "execute_result"
    }
   ],
   "source": [
    "df['Phone'] "
   ]
  },
  {
   "cell_type": "code",
   "execution_count": 175,
   "id": "d9e6b600-eb35-4c74-83b0-8ede1ceb6c4b",
   "metadata": {},
   "outputs": [
    {
     "data": {
      "text/plain": [
       "array(['857.139.8239', nan, '(599)782-0605', '(390)417-1635x3010',\n",
       "       '8537800927', '093.655.7480x7895', '4709522945', '013.820.4758',\n",
       "       '(560)903-5068x4985', '8629884096', '+1-041-859-3844x272',\n",
       "       '801.809.9181x37308', '+1-511-127-6660x230', '903.545.8947',\n",
       "       '(416)979-0633x058', '244-054-8521x1913', '(929)366-8549x3587',\n",
       "       '(973)243-9193', '060-611-9377x90160', '601.838.8295x89942',\n",
       "       '668.063.9568x7257', '(590)187-8007x273', '972.064.3833x5347',\n",
       "       '(614)275-6966x22597', '(322)679-7824', '989.482.6130x996',\n",
       "       '975-190-7875x3293', '(291)853-7982x0123', '(984)863-5741x7054',\n",
       "       '(977)846-8023', '526-208-4712x10329', '157.425.5345',\n",
       "       '600-706-8696x839', '557-620-5663', '000-364-9407x55677',\n",
       "       '(116)776-0713x4684', '+1-932-606-8425x22206', '341.096.2708x237',\n",
       "       '+1-833-716-3269x028', '001-313-023-3603x2485',\n",
       "       '001-366-475-8607x04350', '(412)388-9715', '353.983.3416',\n",
       "       '355-371-5885x826', '+1-326-669-0118x4341',\n",
       "       '001-859-448-9935x54536', '001-274-739-8470x814',\n",
       "       '241.179.9509x498', '207.797.8345x6177', '001-599-042-7428x143',\n",
       "       '663-280-5834', '125.219.3673x0076', '650-748-3069x64529',\n",
       "       '849.500.6331x717', '001-231-320-5609x40384',\n",
       "       '001-937-255-8809x077', '(752)468-1821x6065', '246-500-3955',\n",
       "       '826-156-4347x8894', '939.856.5702', '+1-153-975-9160x54877',\n",
       "       '757.454.8723x425', '632.827.2115', '464-501-0971x93579',\n",
       "       '(192)564-7672', '+1-153-763-3245x239', '549.897.3335',\n",
       "       '777.238.3474', '717.061.0941', '974.866.5670',\n",
       "       '+1-006-497-5864x90856', '890-134-1311', '475.777.8494x2737',\n",
       "       '673.878.6558x33809', '406-298-3045', '(839)224-3577',\n",
       "       '+1-008-555-9017x5699', '(021)896-7173', '412659505',\n",
       "       '894-297-7449x0521', '5419583323', '358.163.4148x2319',\n",
       "       '(638)229-8203x412', '7631450835', '1289379504', '-2840',\n",
       "       '(656)329-5478', '702.591.8573', '3696493045', '343-058-6684',\n",
       "       '+1-997-465-0335x4485', '436.750.6198x86373',\n",
       "       '001-206-682-7783x4353', '064-606-7086', '001-371-758-0962x02689',\n",
       "       '461-212-2090x4522', '5528746828', '(443)703-9896x46775',\n",
       "       '948-848-5407x6058', '976.976.4060x497', '743-835-6511',\n",
       "       '001-385-949-1206x66591', '(918)520-3208x3647',\n",
       "       '001-017-417-0832x943', '001-414-299-1667', '907-736-0570',\n",
       "       '(770)225-7292x865', '(278)176-8091x59960', '8399917932',\n",
       "       '989.634.0396', '291.587.2513x569', '001-183-061-5706',\n",
       "       '392.522.2649x43694', '(074)697-9276x0345', '283.514.2546',\n",
       "       '840.520.0168', '600.473.3696x9138', '658.589.4668x5099',\n",
       "       '371.388.5547x616', '001-892-550-0086x088',\n",
       "       '+1-029-184-8369x33344', '954.146.7056', '(033)223-1221x741',\n",
       "       '-8769', '285.170.3468', '+1-000-117-8461x20805',\n",
       "       '001-660-127-4590x6546', '939.826.3921x144', '853.032.2083',\n",
       "       '001-438-246-2459x25487', '001-644-806-9491x2925',\n",
       "       '911-487-0373x8825', '349.036.6379', '-6559',\n",
       "       '+1-584-890-5151x25199', '130-033-4673x91152',\n",
       "       '384-805-8385x93679', '001-908-915-3254x88513',\n",
       "       '(554)048-7817x1840', '479.731.1408x0288', '+1-499-039-0998x2391',\n",
       "       '001-299-317-0247', '126-232-7407x795', '580-805-3548x8579',\n",
       "       '001-521-112-6517x8064', '006-051-5517', '674-990-9161x259',\n",
       "       '001-701-137-1053x17874', '(478)900-4374', '315.251.1410x1611',\n",
       "       '1196895633', '001-516-867-8624x6537', '179-217-2547',\n",
       "       '+1-043-555-5103x8803', '+1-129-561-0470x850',\n",
       "       '+1-720-651-9038x59082', '(889)413-9131x24202', '879.292.7765',\n",
       "       '121-608-9421', '(186)195-0778x95221', '(235)702-5980x885',\n",
       "       '130.153.8935x98189', '+1-072-501-2836x748',\n",
       "       '001-112-893-2280x858', '670.842.1891', '1526791903',\n",
       "       '001-668-870-9328', '(439)390-6223x0153', '904-206-6562x5727',\n",
       "       '046-790-3722x3553', '008.797.7605', '864.444.3451x06208',\n",
       "       '001-445-245-4728', '1053648903', '(631)637-3650',\n",
       "       '044.291.0252x559', '025-325-6554', '001-503-801-8804x091',\n",
       "       '001-122-269-2914x480', '+1-740-404-4829x6734', '-2858',\n",
       "       '001-253-274-0802', '614.309.7804x6157', '001-893-212-6379',\n",
       "       '255.317.6663', '343-440-2890x2649', '862-457-9311x766',\n",
       "       '473-759-5577x515', '601-835-5192x63785', '-8450',\n",
       "       '720-492-0967x56147', '422-538-3403x6546', '232-541-3203x6916',\n",
       "       '(153)089-2350', '740.434.0212', '001-574-087-2726x7850',\n",
       "       '001-568-534-7273x8143', '772.561.6125', '782.372.6746x2582',\n",
       "       '+1-294-763-6641x9199', '(500)343-9851x714', '671.841.5883x575',\n",
       "       '(255)274-8465', '232-108-8414', '+1-932-530-3920x4196',\n",
       "       '001-617-904-1011x95460', '068-947-7736', '(400)338-9382x0631',\n",
       "       '001-505-218-9483x2407', '079.562.5967x89842',\n",
       "       '148-019-8226x01837', '001-553-768-2080', '001-005-312-1029x159',\n",
       "       '001-339-180-2004', '(654)360-0206', '001-919-880-6698x82822',\n",
       "       '780.016.9045x1922', '(222)266-2752', '001-757-819-4529x63002',\n",
       "       '(083)117-8077x469', '226.013.9961', '75514069',\n",
       "       '654.298.3926x2751', '423-011-4943x091', '001-605-811-2204',\n",
       "       '9626840627', '579.145.6237x01090', '969-492-9689x6742',\n",
       "       '903-121-7928', '-10362', '+1-134-079-4122x3916', '7153164628',\n",
       "       '1301630752', '447-321-4820', '(513)800-9631', '558.587.7098',\n",
       "       '(005)405-6818x9500', '+1-379-748-4774x27663', '862-046-3491x147',\n",
       "       '1032763274', '183.881.9355x2468', '149.501.1590x5315',\n",
       "       '(215)931-0545x23557', '+1-329-571-4597x143',\n",
       "       '001-015-685-8433x54909', '721.978.6128x8184',\n",
       "       '+1-506-126-5723x259', '(943)444-8724', '3866458129',\n",
       "       '(818)062-7676', '001-179-132-1603x752', '806.073.4010',\n",
       "       '197.437.5363x341', '605-274-3835', '(091)991-5163',\n",
       "       '001-417-776-1663x831', '6567039189', '828.725.8358',\n",
       "       '001-564-357-3811x48845', '+1-831-337-4453x69562', '7030930740',\n",
       "       '+1-044-198-1145x772', '795-860-8920', '987-424-9440x903',\n",
       "       '+1-740-899-7655x05268', '(997)139-9531x88690', '1749251229',\n",
       "       '1659563807', '451.369.8716', '3328594631', '-10110',\n",
       "       '701.939.6996', '(873)889-9471', '6119355874', '(288)206-2798',\n",
       "       '333-779-8097x2347', '586.034.1297', '001-950-937-3674x3504',\n",
       "       '+1-724-289-2580x837', '(047)032-2027x3605', '(708)774-7454x729',\n",
       "       '027-908-7316x725', '(786)106-0223', '+1-263-695-2606x7586',\n",
       "       '001-772-944-6336x168', '001-470-693-4050x95296', '(223)537-4201',\n",
       "       '2526790147', '001-533-240-1695x679', '943-245-8254x8788',\n",
       "       '386-935-3146', '697-507-8931', '(388)333-7353x8324',\n",
       "       '(766)644-1565x07376', '061.212.6336', '+1-302-773-8245x25654',\n",
       "       '193-186-9967', '(488)295-3387x30397', '678.889.5526x04700',\n",
       "       '001-588-163-4981x9542', '416-187-9026', '649-364-1585',\n",
       "       '(483)808-6506', '4340260358', '736-844-2429x298',\n",
       "       '(328)712-6257x1223', '+1-044-835-4404x483', '093.258.2270',\n",
       "       '(731)154-7011x27829', '001-292-893-9228x7012',\n",
       "       '001-931-175-0300x6963', '715-832-8924', '9243744843',\n",
       "       '001-607-800-4979x96494', '463-565-9012', '203-841-2499',\n",
       "       '132.838.1663x38051', '916-379-5370x9984', '269-521-3375x516',\n",
       "       '825.175.3063x06412', '+1-117-851-1795x26956',\n",
       "       '+1-947-012-2217x8447', '(278)093-3663', '(815)610-5096x2795',\n",
       "       '+1-460-516-0197x80941', '001-250-675-6940x85289', '7342847803',\n",
       "       '7019789360', '(568)275-6748x2490', '5341896335',\n",
       "       '(583)649-1693x8409', '309854071', '665.207.8772x57230',\n",
       "       '950.519.1474x5235', '(113)014-7831x9464', '000-017-1834x8902',\n",
       "       '995-193-0690', '(934)434-0536x044', '417-175-6316',\n",
       "       '102-357-5047x964', '(793)311-5008', '80095682', '-2093',\n",
       "       '193-705-1010', '6556708415', '+1-893-987-0637x94105',\n",
       "       '(683)029-9498x16512', '393-599-5924x2414', '(127)899-0101',\n",
       "       '001-429-361-9801', '416.377.5635x626', '517.501.4960',\n",
       "       '712.074.3771x26390', '771-157-8817x42260', '614.800.0257x53837',\n",
       "       '566.226.6794x994', '(498)216-2789x8582', '001-452-848-2181x328',\n",
       "       '(193)251-1665x457', '(997)042-7826', '001-085-594-4559x872',\n",
       "       '(742)983-1958x88209', '211-241-9990', '(941)198-6784x51878',\n",
       "       '(447)170-2766', '4942716417', '204-364-8124', '907-675-0674',\n",
       "       '001-642-984-5062x89151', '-6345', '679-582-1062x14875',\n",
       "       '197.767.7821x848', '001-597-675-6361x0485', '126-419-8333',\n",
       "       '001-463-956-2617x8538', '001-729-772-8427', '(681)509-1787',\n",
       "       '+1-708-912-3443x0302', '603-124-4407x470', '838-094-8445x4980',\n",
       "       '284.011.6269x7372', '001-897-602-1941x969', '555.186.4175x684',\n",
       "       '7361854341', '222.092.5549', '316-841-7176x52474', '498.831.3862',\n",
       "       '(146)647-9813x47911', '566.253.5450', '221-605-4196',\n",
       "       '(694)789-6740x4269', '657-424-3917x88297', '534.256.6123x51204',\n",
       "       '8792929924', '481.940.8804x068', '231.412.1068',\n",
       "       '(228)076-5172x949', '(683)156-5726', '508-621-1649x47242',\n",
       "       '027.309.9261x686', '479-260-5736x11742', '001-194-635-5597x047',\n",
       "       '7886901348', '628.117.2792x092', '778.519.8483',\n",
       "       '(787)893-9577x779', '-6247', '838.970.5884', '281-872-8168x51705',\n",
       "       '+1-895-041-8709x40343', '(269)248-5703', '406-043-4594x5418',\n",
       "       '001-877-739-6300x3419', '+1-938-842-1157x84286',\n",
       "       '028.783.7477x505', '001-054-248-5728x337', '(179)037-3088x4653',\n",
       "       '876.690.3205x085', '928.007.5065x989', '001-357-295-5098',\n",
       "       '(071)825-3776x427', '179-136-1668', '373-024-3426', '2979077002',\n",
       "       '(720)107-5417x0679', '950.637.4269', '266.302.9944x37292',\n",
       "       '(832)103-0696x48404', '+1-444-787-8629x309',\n",
       "       '+1-598-679-0779x4428', '001-254-370-5353', '-8212',\n",
       "       '070.456.0525x745', '432-914-6682', '271-573-5376x711',\n",
       "       '129-167-7289', '(296)560-4606x127', '921.542.7766',\n",
       "       '+1-903-596-0995x489', '(869)053-4142x60124', '991.345.9808',\n",
       "       '(630)092-6365x346', '773-022-2720', '4019101915',\n",
       "       '883-178-9162x8349', '(369)212-7750x511', '001-867-462-6437x986',\n",
       "       '+1-259-648-9564x073', '576-096-6192x3244', '187-629-0069x666',\n",
       "       '540-691-8062x229', '(562)770-0620x070', '169.475.4021x656',\n",
       "       '(611)951-4635x707', '345-071-0901', '-8054', '(021)972-2970x7765',\n",
       "       '338-742-1755x20799', '001-294-785-3161x10900',\n",
       "       '+1-263-115-1291x70186', '170.090.1757x4281', '1215885174',\n",
       "       '001-331-453-1563x2715', '(768)340-5471x37859', '-2152',\n",
       "       '440.831.7052', '1037883254', '+1-020-501-5624x8532',\n",
       "       '(523)377-8571x2287', '+1-709-051-7668x51394', '317.051.6578x759',\n",
       "       '(679)692-7198x9109', '303.083.3066', '001-390-730-5653x49003',\n",
       "       '(370)809-0651x2330', '161.061.1526x49903', '641.972.7875x334',\n",
       "       '027-061-5404', '001-089-880-7839', '572.730.5436x9018',\n",
       "       '026.362.4294', '+1-021-934-3005x16455', '344-988-2657',\n",
       "       '001-447-760-1989x182', '106-472-7738x517', '(968)186-3363',\n",
       "       '+1-329-508-8772x89799', '001-698-038-8121', '(037)993-4620x198',\n",
       "       '+1-238-636-3961x830', '(264)357-4205x76487', '987.550.4906',\n",
       "       '594.225.6371', '6197030159', '281-101-3518', '(150)312-9124x907',\n",
       "       '+1-356-676-3110x878', '(377)530-0895x3205', '(737)835-0276x1710',\n",
       "       '4143700246', '608.132.3226x353', '493-378-9322', '040.392.0489',\n",
       "       '+1-928-922-9199x0018', '001-850-427-6484x019',\n",
       "       '001-568-522-6288x737', '740-835-9000', '(764)943-4650',\n",
       "       '642.958.5250', '691.970.5243', '259-382-4661', '(639)194-6306',\n",
       "       '361-858-9274x1106', '001-839-115-6210', '001-294-141-0218x506',\n",
       "       '+1-826-333-2543x472', '984.556.4232', '(785)802-7279x02638',\n",
       "       '398-314-2315', '001-594-212-6731x9666', '977-255-5446',\n",
       "       '757.987.4456x838', '123.378.6942x2425', '165.175.6919',\n",
       "       '(567)762-7250', '9455464754', '414-392-5263x6879',\n",
       "       '(148)738-2456x7741', '(933)464-5698x45607', '(196)169-4158x1406',\n",
       "       '001-702-861-2892x431', '378.723.8193x8881', '406-708-9191x835',\n",
       "       '001-351-459-8965', '908-918-3298x3666', '908-912-8019x9278',\n",
       "       '667.827.3605x666', '(230)125-9706x3262', '852-229-9812',\n",
       "       '(789)445-3941x06090', '+1-468-257-9242x76156',\n",
       "       '(127)799-1270x82908', '051.164.3836x1685', '001-752-436-0279x255',\n",
       "       '703.544.7090', '333.071.9271', '+1-128-137-6418x243',\n",
       "       '9019244242', '(958)003-4052x152', '(255)251-2697x1723',\n",
       "       '128-000-6793x544', '+1-826-090-7747x105', '557.677.3532x4837',\n",
       "       '2838453308', '-8137', '(444)405-4041x920', '(862)324-2691x6036',\n",
       "       '+1-399-874-1872x07858', '863-702-1425x05294', '-9204',\n",
       "       '618-010-6972x87439', '(996)003-4293x083', '-4420',\n",
       "       '001-527-990-0673x63377', '+1-420-405-1011x88746',\n",
       "       '476.923.0644x140', '001-791-880-8989x42004', '(839)430-2088x527',\n",
       "       '253-358-4480', '8644645062', '347.759.7140x19691',\n",
       "       '(112)291-5113', '497-871-9483x18212', '4807677857',\n",
       "       '832-937-4132x7498', '+1-874-865-2786x97890', '127-623-1585x1524',\n",
       "       '+1-229-767-6379x325', '(018)678-2206x0567', '126-787-7498',\n",
       "       '(921)883-5194x519', '+1-408-185-3192x61329', '222.140.6767',\n",
       "       '176-413-5965', '+1-591-330-0881x096', '307-237-1729x611',\n",
       "       '(660)985-6858', '(498)760-9791', '001-843-757-8991x4644',\n",
       "       '945-623-0355', '4732944522', '574.033.2464x8931', '-8264',\n",
       "       '+1-166-938-8350x666', '001-296-660-8835x393', '405-736-1929x0513',\n",
       "       '064.875.1370x536', '001-035-079-7971', '381.196.5445x1259',\n",
       "       '888-083-4857x55487', '792-307-0981', '511-014-2837',\n",
       "       '(944)679-9958', '130-025-6925x8679', '(715)294-1184',\n",
       "       '(877)569-9497', '9140509503', '198.739.3494', '(641)222-9987',\n",
       "       '+1-426-121-0097x92962', '045-103-7446x898', '707.325.1888x302',\n",
       "       '(750)097-3334x63532', '(555)080-0183x3616', '(872)955-3824x933',\n",
       "       '001-254-029-8422x633', '6263040526', '001-822-411-1494x3587',\n",
       "       '-9856', '737.858.9707x96904', '+1-732-469-6082x930',\n",
       "       '+1-431-536-3865x4539', '(875)476-7388x01659',\n",
       "       '(958)325-4522x0302', '214-802-8294x73144', '+1-647-412-6694x936',\n",
       "       '2140198782', '+1-232-944-9856x0325', '240.542.9508',\n",
       "       '(624)931-9690x37093', '-6707', '215-204-9440x38332',\n",
       "       '261.518.3562x193', '+1-286-378-9964x78084', '2473259399',\n",
       "       '961.827.9503', '595.653.8428', '001-263-548-5170x41515',\n",
       "       '789.800.4253x0894', '5441639643', '010-361-9620x13266',\n",
       "       '233-072-2674', '345-714-8209x42069', '001-206-916-4788',\n",
       "       '4008095210', '001-578-875-4590', '(844)655-1890',\n",
       "       '+1-104-262-6571x2783', '(162)296-2950', '125-420-8850',\n",
       "       '+1-433-681-7720x437', '(291)707-9579x2558', '654-490-7760',\n",
       "       '9860888302', '889-865-0121', '367.457.3561x85144',\n",
       "       '001-582-848-2323', '437-026-0338', '894.950.5554x0826',\n",
       "       '(777)833-9536', '294-609-5119', '001-346-209-9798',\n",
       "       '936.049.2941', '(675)861-9186x42301', '001-556-800-7888',\n",
       "       '+1-747-531-3558x936', '866-536-9033x4711', '(836)243-2400x75048',\n",
       "       '(261)395-6954', '392-470-2642x33662', '+1-469-192-3212x9080',\n",
       "       '(444)884-1054', '864.929.4371', '+1-787-518-8961x01222',\n",
       "       '3271074311', '(279)026-3675x04281', '-1170',\n",
       "       '(208)033-3905x49185', '001-721-367-2584x508', '(263)422-6089',\n",
       "       '379.231.6235x5897', '760-584-2951x865', '879.186.9242x3124',\n",
       "       '001-890-636-4631x405', '001-543-900-2861x7398',\n",
       "       '369-852-5458x093', '070-373-7500x981', '572.316.2027x103',\n",
       "       '+1-360-849-5877x978', '804.289.3655x00467',\n",
       "       '001-176-702-1902x2676', '131.546.8652', '+1-640-638-1206x075',\n",
       "       '000-226-3789x2350', '001-136-483-5184', '+1-126-628-2160x7655',\n",
       "       '(783)972-1226x6445', '+1-471-180-1992x400', '985.118.4184x45627',\n",
       "       '+1-530-371-9041x9526', '956.128.8914', '746123720',\n",
       "       '001-944-627-0612x59599', '694-662-0505x445', '1322562407',\n",
       "       '115-459-8166', '+1-470-749-9289x41694', '+1-565-673-5509x055',\n",
       "       '001-772-704-4112', '982.692.6257', '655-893-0611', '-8678',\n",
       "       '313-137-7706x08535', '+1-578-032-3490x96379',\n",
       "       '+1-625-761-5927x0104', '436.435.5330x0823', '275.334.6221',\n",
       "       '5209615749', '001-685-136-9655', '001-246-522-7417x131',\n",
       "       '7232082848', '(823)052-4385', '+1-354-236-4731x8186',\n",
       "       '343.808.8794', '-4993', '695-903-9909x6258', '000.937.6100',\n",
       "       '001-620-603-6438', '226-772-8465x83216', '001-944-928-2350x1413',\n",
       "       '+1-119-052-8161x077', '009.260.4863x0650', '7790359292',\n",
       "       '724-776-4268', '292.054.2991x8638', '470.600.5119',\n",
       "       '001-433-809-2376x5082', '272-667-4615', '724-657-4870',\n",
       "       '914.173.9346', '(953)294-7560x96973', '604-376-7838x28616',\n",
       "       '(556)086-8977x05405', '001-699-885-6247x42962',\n",
       "       '001-657-886-8019x3397', '(756)056-8238x253',\n",
       "       '+1-109-323-9655x934', '(297)816-7270', '001-166-175-2915',\n",
       "       '001-610-348-0297x03252', '570-822-0078x900', '(288)627-9659x909',\n",
       "       '335-405-4928x873', '(914)051-9227', '001-588-469-9770x4897',\n",
       "       '456.693.5786x36552', '767.884.8252x262', '001-198-899-8777x517',\n",
       "       '+1-990-138-6017x238', '577-438-8617x3980', '699-844-6839',\n",
       "       '001-062-393-4265x0986', '511.086.7178', '2931481645',\n",
       "       '081.103.9205x63568', '969662902', '+1-656-627-9739x10338',\n",
       "       '956-042-9355x04371', '001-899-366-2788x46956',\n",
       "       '412-275-7723x5364', '(396)368-5082', '263-938-1564x0528',\n",
       "       '(812)017-6908', '807-969-6087x54319', '(790)820-3408x83559',\n",
       "       '+1-842-242-5690x30077', '+1-238-082-1116x730', '778-379-1284x893',\n",
       "       '661-621-6341x47106', '084-860-0445', '555.374.1073x433',\n",
       "       '109-131-3098', '(780)487-3781x16548', '009-993-1736x5806',\n",
       "       '906.240.9278', '626.594.8169x676', '(768)336-1702',\n",
       "       '+1-416-626-8025x601', '263-711-2288x474', '778-994-7847x0149',\n",
       "       '229-769-5865', '383.013.6115x26877', '754-427-9326',\n",
       "       '001-874-856-8543x207', '974.885.8549x176', '3033546235',\n",
       "       '(344)179-0208x5245', '053-739-1357x12643',\n",
       "       '001-803-340-4079x76935', '+1-687-384-9970x252',\n",
       "       '001-046-232-8317x1629', '9035524996', '726-123-5829',\n",
       "       '373-629-5692x404', '(242)573-5402x0614', '+1-996-191-5230x491',\n",
       "       '532-779-2449', '(825)855-7424', '+1-403-567-3546x275',\n",
       "       '184-399-4232x775', '057.846.9210x0614', '(052)232-0502x8854',\n",
       "       '001-187-987-7783', '975.738.3349x314', '+1-505-978-8290x492',\n",
       "       '8401850249', '738.477.2975x46975', '001-711-429-9158x6035',\n",
       "       '1102858120', '900.932.9738x235', '011.396.7875x37387',\n",
       "       '281801251', '501.619.3807x59327', '-9975', '686.995.9817',\n",
       "       '391-326-9848x09874', '473-521-1775x077', '9906067193',\n",
       "       '(821)711-5848', '634-047-2701x91442', '115-751-4099',\n",
       "       '(358)587-9630', '+1-725-026-5641x373', '409.930.8937',\n",
       "       '(830)679-1944', '6097713760', '001-673-249-3523x21337',\n",
       "       '780-216-7444x013', '(684)253-6679x4634', '710-080-9153',\n",
       "       '304-888-7577x065', '(934)889-1519x161', '001-237-052-1052',\n",
       "       '(768)620-8511x7858', '185.798.1904', '-10498', '439-095-8164x106',\n",
       "       '+1-473-628-1454x706', '001-665-191-3219', '001-949-240-9597x151',\n",
       "       '+1-356-433-2853x10497', '(378)127-6068', '-1574',\n",
       "       '869-150-0627x4703', '092.985.5153', '949-408-3117x9847',\n",
       "       '495.801.0696', '196.892.9479x1260', '297-274-5014x73862',\n",
       "       '(145)206-5183x120', '001-699-014-2260x68707', '305.824.1054',\n",
       "       '001-746-306-5874x1736', '693.085.5807x70222',\n",
       "       '001-375-664-6733x1057', '647-107-8861', '001-240-941-6518x58690',\n",
       "       '+1-563-119-8610x103', '001-260-870-9847', '454.215.0191',\n",
       "       '369-715-4082', '001-665-942-5937x733', '664.355.3612x031',\n",
       "       '629.764.8417', '439.504.4293', '(250)964-1212x08050',\n",
       "       '(303)232-2425x124', '684-789-9132x271', '+1-724-220-9443x27366',\n",
       "       '345-586-2372', '364.579.0496x4459', '939-220-4965x592',\n",
       "       '920.684.2715x47352', '001-442-173-5753x43353',\n",
       "       '+1-781-671-5355x6321', '593.328.5077x117', '(873)754-7567x954',\n",
       "       '815-913-2572x02631', '989-102-1432x311', '870.261.9490',\n",
       "       '001-855-398-7323', '365-734-2105x637', '-4132', '045.558.9873',\n",
       "       '711-330-8727x8347', '(209)121-8096x75468',\n",
       "       '001-101-460-3222x4214', '295.935.4715x866', '(286)353-1333x922',\n",
       "       '056-180-5303', '990-151-2491x459', '001-001-246-3557x8159',\n",
       "       '179-906-3305', '-5918', '001-062-569-8803x495',\n",
       "       '066.858.9432x63929', '(110)228-6934x756', '001-003-565-7913',\n",
       "       '5261513548', '+1-337-073-4506x5250', '102.021.4178',\n",
       "       '(154)196-0300', '(340)028-1312', '150.057.0236x586',\n",
       "       '001-574-196-2679', '001-836-390-5198', '+1-012-941-2458x595',\n",
       "       '(785)824-0559x39648', '325-757-1075x1808', '994.510.1820x815',\n",
       "       '591.770.2107x723', '(214)263-5792', '(118)027-7953x24931',\n",
       "       '(929)860-5307x5076', '001-361-608-0212x399', '737-135-1185',\n",
       "       '130.166.5858', '302.275.2059x988', '+1-987-838-3151x752',\n",
       "       '235.019.9477x5740', '(555)556-6988x21736', '(305)180-6326x773',\n",
       "       '212-112-3077', '725.610.7904x37297', '(509)549-6811x3594',\n",
       "       '(915)767-8729x2329', '477-481-4501', '540.500.1577x120',\n",
       "       '+1-143-008-7595x048', '001-400-180-8962x830',\n",
       "       '001-307-844-2388x95733', '-8651', '918.044.5811x16137',\n",
       "       '348-920-7215x214', '286.971.1041', '(349)721-1764',\n",
       "       '(065)884-2220', '+1-699-042-1590x381', '001-085-594-2403x244',\n",
       "       '+1-394-301-4367x02144', '163.913.6483x679', '(149)141-7305',\n",
       "       '739-995-5266x306', '957-423-3354x81042', '724-885-5658x9256',\n",
       "       '908.542.1610x0929', '7241148148', '302-988-4653x3347', '-1081',\n",
       "       '+1-581-867-2285x063', '001-444-261-5594', '+1-262-212-1932x8501',\n",
       "       '-3086', '710.150.4677', '-9104', '001-406-691-1535',\n",
       "       '(644)362-3647x21326', '001-698-784-8170x725',\n",
       "       '001-010-399-4628x822', '353-282-1442x0941',\n",
       "       '001-076-332-8351x0833', '836-422-9878', '469-029-3564x9081',\n",
       "       '(254)352-0160x4964', '573-943-0389x380', '021.775.2933',\n",
       "       '001-149-710-7799x721', '+1-750-774-4128x33265', '(915)292-2254',\n",
       "       '079.752.5424x67259'], dtype=object)"
      ]
     },
     "execution_count": 175,
     "metadata": {},
     "output_type": "execute_result"
    }
   ],
   "source": [
    "df.Phone.unique()"
   ]
  },
  {
   "cell_type": "code",
   "execution_count": null,
   "id": "ef8b8b54-c2e5-49ee-a7f1-c54c72f23685",
   "metadata": {},
   "outputs": [],
   "source": [
    "# By analysing the column Phone - Here are the non-numeric characters (special characters)\n",
    ". , ( ) x + -\n",
    "# So I am going to write a function to process these characters."
   ]
  },
  {
   "cell_type": "code",
   "execution_count": 178,
   "id": "4c0fca81-4ca9-4210-a42e-3cee72852b23",
   "metadata": {},
   "outputs": [],
   "source": [
    "char_to_remove = [\".\", \",\", \"(\", \")\", \"x\",  \"+\",  \"-\"]\n",
    "col_to_remove = [\"Phone\"]\n",
    "\n",
    "for char in char_to_remove:\n",
    "    for col in col_to_remove:\n",
    "        df[col] = df[col].str.replace(char,\"\")\n"
   ]
  },
  {
   "cell_type": "code",
   "execution_count": 184,
   "id": "34993277-1479-4315-b932-69c3e6a94696",
   "metadata": {},
   "outputs": [
    {
     "data": {
      "text/html": [
       "<div>\n",
       "<style scoped>\n",
       "    .dataframe tbody tr th:only-of-type {\n",
       "        vertical-align: middle;\n",
       "    }\n",
       "\n",
       "    .dataframe tbody tr th {\n",
       "        vertical-align: top;\n",
       "    }\n",
       "\n",
       "    .dataframe thead th {\n",
       "        text-align: right;\n",
       "    }\n",
       "</style>\n",
       "<table border=\"1\" class=\"dataframe\">\n",
       "  <thead>\n",
       "    <tr style=\"text-align: right;\">\n",
       "      <th></th>\n",
       "      <th>Index</th>\n",
       "      <th>User Id</th>\n",
       "      <th>First Name</th>\n",
       "      <th>Last Name</th>\n",
       "      <th>Gender</th>\n",
       "      <th>Email</th>\n",
       "      <th>Phone</th>\n",
       "      <th>Date of birth</th>\n",
       "      <th>Job Title</th>\n",
       "      <th>Salary</th>\n",
       "    </tr>\n",
       "  </thead>\n",
       "  <tbody>\n",
       "    <tr>\n",
       "      <th>0</th>\n",
       "      <td>1</td>\n",
       "      <td>8717bbf45cCDbEe</td>\n",
       "      <td>Shelia</td>\n",
       "      <td>Mahoney</td>\n",
       "      <td>Male</td>\n",
       "      <td>pwarner@example.org</td>\n",
       "      <td>8.571398e+09</td>\n",
       "      <td>27-01-2014</td>\n",
       "      <td>Probation officer</td>\n",
       "      <td>90000</td>\n",
       "    </tr>\n",
       "    <tr>\n",
       "      <th>1</th>\n",
       "      <td>2</td>\n",
       "      <td>3d5AD30A4cD38ed</td>\n",
       "      <td>Jo</td>\n",
       "      <td>Rivers</td>\n",
       "      <td>Female</td>\n",
       "      <td>fergusonkatherine@example.net</td>\n",
       "      <td>NaN</td>\n",
       "      <td>26-07-1931</td>\n",
       "      <td>Dancer</td>\n",
       "      <td>80000</td>\n",
       "    </tr>\n",
       "    <tr>\n",
       "      <th>2</th>\n",
       "      <td>3</td>\n",
       "      <td>810Ce0F276Badec</td>\n",
       "      <td>Sheryl</td>\n",
       "      <td>Lowery</td>\n",
       "      <td>Female</td>\n",
       "      <td>fhoward@example.org</td>\n",
       "      <td>5.997821e+09</td>\n",
       "      <td>25-11-2013</td>\n",
       "      <td>Copy</td>\n",
       "      <td>50000</td>\n",
       "    </tr>\n",
       "  </tbody>\n",
       "</table>\n",
       "</div>"
      ],
      "text/plain": [
       "   Index          User Id First Name Last Name  Gender  \\\n",
       "0      1  8717bbf45cCDbEe     Shelia   Mahoney    Male   \n",
       "1      2  3d5AD30A4cD38ed         Jo    Rivers  Female   \n",
       "2      3  810Ce0F276Badec     Sheryl    Lowery  Female   \n",
       "\n",
       "                           Email         Phone Date of birth  \\\n",
       "0            pwarner@example.org  8.571398e+09    27-01-2014   \n",
       "1  fergusonkatherine@example.net           NaN    26-07-1931   \n",
       "2            fhoward@example.org  5.997821e+09    25-11-2013   \n",
       "\n",
       "           Job Title  Salary  \n",
       "0  Probation officer   90000  \n",
       "1             Dancer   80000  \n",
       "2               Copy   50000  "
      ]
     },
     "execution_count": 184,
     "metadata": {},
     "output_type": "execute_result"
    }
   ],
   "source": [
    "df.head(3)"
   ]
  },
  {
   "cell_type": "code",
   "execution_count": 180,
   "id": "dc44a53b-63a9-424a-82d4-8cd6c4963560",
   "metadata": {},
   "outputs": [
    {
     "data": {
      "text/plain": [
       "array(['8571398239', nan, '5997820605', '39041716353010', '8537800927',\n",
       "       '09365574807895', '4709522945', '0138204758', '56090350684985',\n",
       "       '8629884096', '10418593844272', '801809918137308',\n",
       "       '15111276660230', '9035458947', '4169790633058', '24405485211913',\n",
       "       '92936685493587', '9732439193', '060611937790160',\n",
       "       '601838829589942', '66806395687257', '5901878007273',\n",
       "       '97206438335347', '614275696622597', '3226797824', '9894826130996',\n",
       "       '97519078753293', '29185379820123', '98486357417054', '9778468023',\n",
       "       '526208471210329', '1574255345', '6007068696839', '5576205663',\n",
       "       '000364940755677', '11677607134684', '1932606842522206',\n",
       "       '3410962708237', '18337163269028', '00131302336032485',\n",
       "       '001366475860704350', '4123889715', '3539833416', '3553715885826',\n",
       "       '132666901184341', '001859448993554536', '0012747398470814',\n",
       "       '2411799509498', '20779783456177', '0015990427428143',\n",
       "       '6632805834', '12521936730076', '650748306964529', '8495006331717',\n",
       "       '001231320560940384', '0019372558809077', '75246818216065',\n",
       "       '2465003955', '82615643478894', '9398565702', '1153975916054877',\n",
       "       '7574548723425', '6328272115', '464501097193579', '1925647672',\n",
       "       '11537633245239', '5498973335', '7772383474', '7170610941',\n",
       "       '9748665670', '1006497586490856', '8901341311', '47577784942737',\n",
       "       '673878655833809', '4062983045', '8392243577', '100855590175699',\n",
       "       '0218967173', '412659505', '89429774490521', '5419583323',\n",
       "       '35816341482319', '6382298203412', '7631450835', '1289379504',\n",
       "       '2840', '6563295478', '7025918573', '3696493045', '3430586684',\n",
       "       '199746503354485', '436750619886373', '00120668277834353',\n",
       "       '0646067086', '001371758096202689', '46121220904522', '5528746828',\n",
       "       '443703989646775', '94884854076058', '9769764060497', '7438356511',\n",
       "       '001385949120666591', '91852032083647', '0010174170832943',\n",
       "       '0014142991667', '9077360570', '7702257292865', '278176809159960',\n",
       "       '8399917932', '9896340396', '2915872513569', '0011830615706',\n",
       "       '392522264943694', '07469792760345', '2835142546', '8405200168',\n",
       "       '60047336969138', '65858946685099', '3713885547616',\n",
       "       '0018925500086088', '1029184836933344', '9541467056',\n",
       "       '0332231221741', '8769', '2851703468', '1000117846120805',\n",
       "       '00166012745906546', '9398263921144', '8530322083',\n",
       "       '001438246245925487', '00164480694912925', '91148703738825',\n",
       "       '3490366379', '6559', '1584890515125199', '130033467391152',\n",
       "       '384805838593679', '001908915325488513', '55404878171840',\n",
       "       '47973114080288', '149903909982391', '0012993170247',\n",
       "       '1262327407795', '58080535488579', '00152111265178064',\n",
       "       '0060515517', '6749909161259', '001701137105317874', '4789004374',\n",
       "       '31525114101611', '1196895633', '00151686786246537', '1792172547',\n",
       "       '104355551038803', '11295610470850', '1720651903859082',\n",
       "       '889413913124202', '8792927765', '1216089421', '186195077895221',\n",
       "       '2357025980885', '130153893598189', '10725012836748',\n",
       "       '0011128932280858', '6708421891', '1526791903', '0016688709328',\n",
       "       '43939062230153', '90420665625727', '04679037223553', '0087977605',\n",
       "       '864444345106208', '0014452454728', '1053648903', '6316373650',\n",
       "       '0442910252559', '0253256554', '0015038018804091',\n",
       "       '0011222692914480', '174040448296734', '2858', '0012532740802',\n",
       "       '61430978046157', '0018932126379', '2553176663', '34344028902649',\n",
       "       '8624579311766', '4737595577515', '601835519263785', '8450',\n",
       "       '720492096756147', '42253834036546', '23254132036916',\n",
       "       '1530892350', '7404340212', '00157408727267850',\n",
       "       '00156853472738143', '7725616125', '78237267462582',\n",
       "       '129476366419199', '5003439851714', '6718415883575', '2552748465',\n",
       "       '2321088414', '193253039204196', '001617904101195460',\n",
       "       '0689477736', '40033893820631', '00150521894832407',\n",
       "       '079562596789842', '148019822601837', '0015537682080',\n",
       "       '0010053121029159', '0013391802004', '6543600206',\n",
       "       '001919880669882822', '78001690451922', '2222662752',\n",
       "       '001757819452963002', '0831178077469', '2260139961', '75514069',\n",
       "       '65429839262751', '4230114943091', '0016058112204', '9626840627',\n",
       "       '579145623701090', '96949296896742', '9031217928', '10362',\n",
       "       '113407941223916', '7153164628', '1301630752', '4473214820',\n",
       "       '5138009631', '5585877098', '00540568189500', '1379748477427663',\n",
       "       '8620463491147', '1032763274', '18388193552468', '14950115905315',\n",
       "       '215931054523557', '13295714597143', '001015685843354909',\n",
       "       '72197861288184', '15061265723259', '9434448724', '3866458129',\n",
       "       '8180627676', '0011791321603752', '8060734010', '1974375363341',\n",
       "       '6052743835', '0919915163', '0014177761663831', '6567039189',\n",
       "       '8287258358', '001564357381148845', '1831337445369562',\n",
       "       '7030930740', '10441981145772', '7958608920', '9874249440903',\n",
       "       '1740899765505268', '997139953188690', '1749251229', '1659563807',\n",
       "       '4513698716', '3328594631', '10110', '7019396996', '8738899471',\n",
       "       '6119355874', '2882062798', '33377980972347', '5860341297',\n",
       "       '00195093736743504', '17242892580837', '04703220273605',\n",
       "       '7087747454729', '0279087316725', '7861060223', '126369526067586',\n",
       "       '0017729446336168', '001470693405095296', '2235374201',\n",
       "       '2526790147', '0015332401695679', '94324582548788', '3869353146',\n",
       "       '6975078931', '38833373538324', '766644156507376', '0612126336',\n",
       "       '1302773824525654', '1931869967', '488295338730397',\n",
       "       '678889552604700', '00158816349819542', '4161879026', '6493641585',\n",
       "       '4838086506', '4340260358', '7368442429298', '32871262571223',\n",
       "       '10448354404483', '0932582270', '731154701127829',\n",
       "       '00129289392287012', '00193117503006963', '7158328924',\n",
       "       '9243744843', '001607800497996494', '4635659012', '2038412499',\n",
       "       '132838166338051', '91637953709984', '2695213375516',\n",
       "       '825175306306412', '1117851179526956', '194701222178447',\n",
       "       '2780933663', '81561050962795', '1460516019780941',\n",
       "       '001250675694085289', '7342847803', '7019789360', '56827567482490',\n",
       "       '5341896335', '58364916938409', '309854071', '665207877257230',\n",
       "       '95051914745235', '11301478319464', '00001718348902', '9951930690',\n",
       "       '9344340536044', '4171756316', '1023575047964', '7933115008',\n",
       "       '80095682', '2093', '1937051010', '6556708415', '1893987063794105',\n",
       "       '683029949816512', '39359959242414', '1278990101', '0014293619801',\n",
       "       '4163775635626', '5175014960', '712074377126390',\n",
       "       '771157881742260', '614800025753837', '5662266794994',\n",
       "       '49821627898582', '0014528482181328', '1932511665457',\n",
       "       '9970427826', '0010855944559872', '742983195888209', '2112419990',\n",
       "       '941198678451878', '4471702766', '4942716417', '2043648124',\n",
       "       '9076750674', '001642984506289151', '6345', '679582106214875',\n",
       "       '1977677821848', '00159767563610485', '1264198333',\n",
       "       '00146395626178538', '0017297728427', '6815091787',\n",
       "       '170891234430302', '6031244407470', '83809484454980',\n",
       "       '28401162697372', '0018976021941969', '5551864175684',\n",
       "       '7361854341', '2220925549', '316841717652474', '4988313862',\n",
       "       '146647981347911', '5662535450', '2216054196', '69478967404269',\n",
       "       '657424391788297', '534256612351204', '8792929924',\n",
       "       '4819408804068', '2314121068', '2280765172949', '6831565726',\n",
       "       '508621164947242', '0273099261686', '479260573611742',\n",
       "       '0011946355597047', '7886901348', '6281172792092', '7785198483',\n",
       "       '7878939577779', '6247', '8389705884', '281872816851705',\n",
       "       '1895041870940343', '2692485703', '40604345945418',\n",
       "       '00187773963003419', '1938842115784286', '0287837477505',\n",
       "       '0010542485728337', '17903730884653', '8766903205085',\n",
       "       '9280075065989', '0013572955098', '0718253776427', '1791361668',\n",
       "       '3730243426', '2979077002', '72010754170679', '9506374269',\n",
       "       '266302994437292', '832103069648404', '14447878629309',\n",
       "       '159867907794428', '0012543705353', '8212', '0704560525745',\n",
       "       '4329146682', '2715735376711', '1291677289', '2965604606127',\n",
       "       '9215427766', '19035960995489', '869053414260124', '9913459808',\n",
       "       '6300926365346', '7730222720', '4019101915', '88317891628349',\n",
       "       '3692127750511', '0018674626437986', '12596489564073',\n",
       "       '57609661923244', '1876290069666', '5406918062229',\n",
       "       '5627700620070', '1694754021656', '6119514635707', '3450710901',\n",
       "       '8054', '02197229707765', '338742175520799', '001294785316110900',\n",
       "       '1263115129170186', '17009017574281', '1215885174',\n",
       "       '00133145315632715', '768340547137859', '2152', '4408317052',\n",
       "       '1037883254', '102050156248532', '52337785712287',\n",
       "       '1709051766851394', '3170516578759', '67969271989109',\n",
       "       '3030833066', '001390730565349003', '37080906512330',\n",
       "       '161061152649903', '6419727875334', '0270615404', '0010898807839',\n",
       "       '57273054369018', '0263624294', '1021934300516455', '3449882657',\n",
       "       '0014477601989182', '1064727738517', '9681863363',\n",
       "       '1329508877289799', '0016980388121', '0379934620198',\n",
       "       '12386363961830', '264357420576487', '9875504906', '5942256371',\n",
       "       '6197030159', '2811013518', '1503129124907', '13566763110878',\n",
       "       '37753008953205', '73783502761710', '4143700246', '6081323226353',\n",
       "       '4933789322', '0403920489', '192892291990018', '0018504276484019',\n",
       "       '0015685226288737', '7408359000', '7649434650', '6429585250',\n",
       "       '6919705243', '2593824661', '6391946306', '36185892741106',\n",
       "       '0018391156210', '0012941410218506', '18263332543472',\n",
       "       '9845564232', '785802727902638', '3983142315', '00159421267319666',\n",
       "       '9772555446', '7579874456838', '12337869422425', '1651756919',\n",
       "       '5677627250', '9455464754', '41439252636879', '14873824567741',\n",
       "       '933464569845607', '19616941581406', '0017028612892431',\n",
       "       '37872381938881', '4067089191835', '0013514598965',\n",
       "       '90891832983666', '90891280199278', '6678273605666',\n",
       "       '23012597063262', '8522299812', '789445394106090',\n",
       "       '1468257924276156', '127799127082908', '05116438361685',\n",
       "       '0017524360279255', '7035447090', '3330719271', '11281376418243',\n",
       "       '9019244242', '9580034052152', '25525126971723', '1280006793544',\n",
       "       '18260907747105', '55767735324837', '2838453308', '8137',\n",
       "       '4444054041920', '86232426916036', '1399874187207858',\n",
       "       '863702142505294', '9204', '618010697287439', '9960034293083',\n",
       "       '4420', '001527990067363377', '1420405101188746', '4769230644140',\n",
       "       '001791880898942004', '8394302088527', '2533584480', '8644645062',\n",
       "       '347759714019691', '1122915113', '497871948318212', '4807677857',\n",
       "       '83293741327498', '1874865278697890', '12762315851524',\n",
       "       '12297676379325', '01867822060567', '1267877498', '9218835194519',\n",
       "       '1408185319261329', '2221406767', '1764135965', '15913300881096',\n",
       "       '3072371729611', '6609856858', '4987609791', '00184375789914644',\n",
       "       '9456230355', '4732944522', '57403324648931', '8264',\n",
       "       '11669388350666', '0012966608835393', '40573619290513',\n",
       "       '0648751370536', '0010350797971', '38119654451259',\n",
       "       '888083485755487', '7923070981', '5110142837', '9446799958',\n",
       "       '13002569258679', '7152941184', '8775699497', '9140509503',\n",
       "       '1987393494', '6412229987', '1426121009792962', '0451037446898',\n",
       "       '7073251888302', '750097333463532', '55508001833616',\n",
       "       '8729553824933', '0012540298422633', '6263040526',\n",
       "       '00182241114943587', '9856', '737858970796904', '17324696082930',\n",
       "       '143153638654539', '875476738801659', '95832545220302',\n",
       "       '214802829473144', '16474126694936', '2140198782',\n",
       "       '123294498560325', '2405429508', '624931969037093', '6707',\n",
       "       '215204944038332', '2615183562193', '1286378996478084',\n",
       "       '2473259399', '9618279503', '5956538428', '001263548517041515',\n",
       "       '78980042530894', '5441639643', '010361962013266', '2330722674',\n",
       "       '345714820942069', '0012069164788', '4008095210', '0015788754590',\n",
       "       '8446551890', '110426265712783', '1622962950', '1254208850',\n",
       "       '14336817720437', '29170795792558', '6544907760', '9860888302',\n",
       "       '8898650121', '367457356185144', '0015828482323', '4370260338',\n",
       "       '89495055540826', '7778339536', '2946095119', '0013462099798',\n",
       "       '9360492941', '675861918642301', '0015568007888', '17475313558936',\n",
       "       '86653690334711', '836243240075048', '2613956954',\n",
       "       '392470264233662', '146919232129080', '4448841054', '8649294371',\n",
       "       '1787518896101222', '3271074311', '279026367504281', '1170',\n",
       "       '208033390549185', '0017213672584508', '2634226089',\n",
       "       '37923162355897', '7605842951865', '87918692423124',\n",
       "       '0018906364631405', '00154390028617398', '3698525458093',\n",
       "       '0703737500981', '5723162027103', '13608495877978',\n",
       "       '804289365500467', '00117670219022676', '1315468652',\n",
       "       '16406381206075', '00022637892350', '0011364835184',\n",
       "       '112662821607655', '78397212266445', '14711801992400',\n",
       "       '985118418445627', '153037190419526', '9561288914', '746123720',\n",
       "       '001944627061259599', '6946620505445', '1322562407', '1154598166',\n",
       "       '1470749928941694', '15656735509055', '0017727044112',\n",
       "       '9826926257', '6558930611', '8678', '313137770608535',\n",
       "       '1578032349096379', '162576159270104', '43643553300823',\n",
       "       '2753346221', '5209615749', '0016851369655', '0012465227417131',\n",
       "       '7232082848', '8230524385', '135423647318186', '3438088794',\n",
       "       '4993', '69590399096258', '0009376100', '0016206036438',\n",
       "       '226772846583216', '00194492823501413', '11190528161077',\n",
       "       '00926048630650', '7790359292', '7247764268', '29205429918638',\n",
       "       '4706005119', '00143380923765082', '2726674615', '7246574870',\n",
       "       '9141739346', '953294756096973', '604376783828616',\n",
       "       '556086897705405', '001699885624742962', '00165788680193397',\n",
       "       '7560568238253', '11093239655934', '2978167270', '0011661752915',\n",
       "       '001610348029703252', '5708220078900', '2886279659909',\n",
       "       '3354054928873', '9140519227', '00158846997704897',\n",
       "       '456693578636552', '7678848252262', '0011988998777517',\n",
       "       '19901386017238', '57743886173980', '6998446839',\n",
       "       '00106239342650986', '5110867178', '2931481645', '081103920563568',\n",
       "       '969662902', '1656627973910338', '956042935504371',\n",
       "       '001899366278846956', '41227577235364', '3963685082',\n",
       "       '26393815640528', '8120176908', '807969608754319',\n",
       "       '790820340883559', '1842242569030077', '12380821116730',\n",
       "       '7783791284893', '661621634147106', '0848600445', '5553741073433',\n",
       "       '1091313098', '780487378116548', '00999317365806', '9062409278',\n",
       "       '6265948169676', '7683361702', '14166268025601', '2637112288474',\n",
       "       '77899478470149', '2297695865', '383013611526877', '7544279326',\n",
       "       '0018748568543207', '9748858549176', '3033546235',\n",
       "       '34417902085245', '053739135712643', '001803340407976935',\n",
       "       '16873849970252', '00104623283171629', '9035524996', '7261235829',\n",
       "       '3736295692404', '24257354020614', '19961915230491', '5327792449',\n",
       "       '8258557424', '14035673546275', '1843994232775', '05784692100614',\n",
       "       '05223205028854', '0011879877783', '9757383349314',\n",
       "       '15059788290492', '8401850249', '738477297546975',\n",
       "       '00171142991586035', '1102858120', '9009329738235',\n",
       "       '011396787537387', '281801251', '501619380759327', '9975',\n",
       "       '6869959817', '391326984809874', '4735211775077', '9906067193',\n",
       "       '8217115848', '634047270191442', '1157514099', '3585879630',\n",
       "       '17250265641373', '4099308937', '8306791944', '6097713760',\n",
       "       '001673249352321337', '7802167444013', '68425366794634',\n",
       "       '7100809153', '3048887577065', '9348891519161', '0012370521052',\n",
       "       '76862085117858', '1857981904', '10498', '4390958164106',\n",
       "       '14736281454706', '0016651913219', '0019492409597151',\n",
       "       '1356433285310497', '3781276068', '1574', '86915006274703',\n",
       "       '0929855153', '94940831179847', '4958010696', '19689294791260',\n",
       "       '297274501473862', '1452065183120', '001699014226068707',\n",
       "       '3058241054', '00174630658741736', '693085580770222',\n",
       "       '00137566467331057', '6471078861', '001240941651858690',\n",
       "       '15631198610103', '0012608709847', '4542150191', '3697154082',\n",
       "       '0016659425937733', '6643553612031', '6297648417', '4395044293',\n",
       "       '250964121208050', '3032322425124', '6847899132271',\n",
       "       '1724220944327366', '3455862372', '36457904964459',\n",
       "       '9392204965592', '920684271547352', '001442173575343353',\n",
       "       '178167153556321', '5933285077117', '8737547567954',\n",
       "       '815913257202631', '9891021432311', '8702619490', '0018553987323',\n",
       "       '3657342105637', '4132', '0455589873', '71133087278347',\n",
       "       '209121809675468', '00110146032224214', '2959354715866',\n",
       "       '2863531333922', '0561805303', '9901512491459',\n",
       "       '00100124635578159', '1799063305', '5918', '0010625698803495',\n",
       "       '066858943263929', '1102286934756', '0010035657913', '5261513548',\n",
       "       '133707345065250', '1020214178', '1541960300', '3400281312',\n",
       "       '1500570236586', '0015741962679', '0018363905198',\n",
       "       '10129412458595', '785824055939648', '32575710751808',\n",
       "       '9945101820815', '5917702107723', '2142635792', '118027795324931',\n",
       "       '92986053075076', '0013616080212399', '7371351185', '1301665858',\n",
       "       '3022752059988', '19878383151752', '23501994775740',\n",
       "       '555556698821736', '3051806326773', '2121123077',\n",
       "       '725610790437297', '50954968113594', '91576787292329',\n",
       "       '4774814501', '5405001577120', '11430087595048',\n",
       "       '0014001808962830', '001307844238895733', '8651',\n",
       "       '918044581116137', '3489207215214', '2869711041', '3497211764',\n",
       "       '0658842220', '16990421590381', '0010855942403244',\n",
       "       '1394301436702144', '1639136483679', '1491417305', '7399955266306',\n",
       "       '957423335481042', '72488556589256', '90854216100929',\n",
       "       '7241148148', '30298846533347', '1081', '15818672285063',\n",
       "       '0014442615594', '126221219328501', '3086', '7101504677', '9104',\n",
       "       '0014066911535', '644362364721326', '0016987848170725',\n",
       "       '0010103994628822', '35328214420941', '00107633283510833',\n",
       "       '8364229878', '46902935649081', '25435201604964', '5739430389380',\n",
       "       '0217752933', '0011497107799721', '1750774412833265', '9152922254',\n",
       "       '079752542467259'], dtype=object)"
      ]
     },
     "execution_count": 180,
     "metadata": {},
     "output_type": "execute_result"
    }
   ],
   "source": [
    "df.Phone.unique()"
   ]
  },
  {
   "cell_type": "code",
   "execution_count": 182,
   "id": "ddadd602-d803-4282-9558-5d56029bc8aa",
   "metadata": {},
   "outputs": [],
   "source": [
    "# again its type is object, so I converted it into float format. \n",
    "df[\"Phone\"] = df[\"Phone\"].astype(float)"
   ]
  },
  {
   "cell_type": "code",
   "execution_count": 183,
   "id": "a743d755-87ed-47fe-b9cf-7338bab14502",
   "metadata": {},
   "outputs": [
    {
     "data": {
      "text/plain": [
       "dtype('float64')"
      ]
     },
     "execution_count": 183,
     "metadata": {},
     "output_type": "execute_result"
    }
   ],
   "source": [
    "df[\"Phone\"].dtype"
   ]
  },
  {
   "cell_type": "code",
   "execution_count": 186,
   "id": "b9777608-8f33-4ef7-a958-2c069db53b1a",
   "metadata": {},
   "outputs": [
    {
     "name": "stdout",
     "output_type": "stream",
     "text": [
      "<class 'pandas.core.frame.DataFrame'>\n",
      "RangeIndex: 1000 entries, 0 to 999\n",
      "Data columns (total 10 columns):\n",
      " #   Column         Non-Null Count  Dtype  \n",
      "---  ------         --------------  -----  \n",
      " 0   Index          1000 non-null   int64  \n",
      " 1   User Id        1000 non-null   object \n",
      " 2   First Name     1000 non-null   object \n",
      " 3   Last Name      1000 non-null   object \n",
      " 4   Gender         1000 non-null   object \n",
      " 5   Email          1000 non-null   object \n",
      " 6   Phone          979 non-null    float64\n",
      " 7   Date of birth  1000 non-null   object \n",
      " 8   Job Title      1000 non-null   object \n",
      " 9   Salary         1000 non-null   int64  \n",
      "dtypes: float64(1), int64(2), object(7)\n",
      "memory usage: 78.3+ KB\n"
     ]
    }
   ],
   "source": [
    "df.info() # display table(data frame) attributes and its datatypes"
   ]
  },
  {
   "cell_type": "markdown",
   "id": "d2132a87-29bf-4e37-8b11-b39952e61f71",
   "metadata": {},
   "source": [
    "### 8.Perform the following tasks using people dataset:\n",
    "\n",
    " a) Read the 'data.csv' file using pandas, skipping the first 50 rows.\n",
    "\n",
    " b) Only read the columns: 'Last Name', ‘Gender’,’Email’,‘Phone’ and ‘Salary’ from the file.\n",
    "\n",
    " c) Display the first 10 rows of the filtered dataset.\n",
    "\n",
    " d) Extract the ‘Salary’' column as a Series and display its last 5 values."
   ]
  },
  {
   "cell_type": "code",
   "execution_count": 187,
   "id": "22635539-35fa-42ed-b614-14e1f46f0a08",
   "metadata": {},
   "outputs": [
    {
     "data": {
      "text/html": [
       "<div>\n",
       "<style scoped>\n",
       "    .dataframe tbody tr th:only-of-type {\n",
       "        vertical-align: middle;\n",
       "    }\n",
       "\n",
       "    .dataframe tbody tr th {\n",
       "        vertical-align: top;\n",
       "    }\n",
       "\n",
       "    .dataframe thead th {\n",
       "        text-align: right;\n",
       "    }\n",
       "</style>\n",
       "<table border=\"1\" class=\"dataframe\">\n",
       "  <thead>\n",
       "    <tr style=\"text-align: right;\">\n",
       "      <th></th>\n",
       "      <th>50</th>\n",
       "      <th>afF3018e9cdd1dA</th>\n",
       "      <th>George</th>\n",
       "      <th>Mercer</th>\n",
       "      <th>Female</th>\n",
       "      <th>douglascontreras@example.net</th>\n",
       "      <th>+1-326-669-0118x4341</th>\n",
       "      <th>11-09-1941</th>\n",
       "      <th>Human resources officer</th>\n",
       "      <th>70000</th>\n",
       "    </tr>\n",
       "  </thead>\n",
       "  <tbody>\n",
       "    <tr>\n",
       "      <th>0</th>\n",
       "      <td>51</td>\n",
       "      <td>CccE5DAb6E288e5</td>\n",
       "      <td>Jo</td>\n",
       "      <td>Zavala</td>\n",
       "      <td>Male</td>\n",
       "      <td>pamela64@example.net</td>\n",
       "      <td>001-859-448-9935x54536</td>\n",
       "      <td>23-11-1992</td>\n",
       "      <td>Nurse, adult</td>\n",
       "      <td>80000</td>\n",
       "    </tr>\n",
       "    <tr>\n",
       "      <th>1</th>\n",
       "      <td>52</td>\n",
       "      <td>DfBDc3621D4bcec</td>\n",
       "      <td>Joshua</td>\n",
       "      <td>Carey</td>\n",
       "      <td>Female</td>\n",
       "      <td>dianashepherd@example.net</td>\n",
       "      <td>001-274-739-8470x814</td>\n",
       "      <td>07-01-1915</td>\n",
       "      <td>Seismic interpreter</td>\n",
       "      <td>70000</td>\n",
       "    </tr>\n",
       "    <tr>\n",
       "      <th>2</th>\n",
       "      <td>53</td>\n",
       "      <td>f55b0A249f5E44D</td>\n",
       "      <td>Rickey</td>\n",
       "      <td>Hobbs</td>\n",
       "      <td>Female</td>\n",
       "      <td>ingramtiffany@example.org</td>\n",
       "      <td>241.179.9509x498</td>\n",
       "      <td>01-07-1910</td>\n",
       "      <td>Barrister</td>\n",
       "      <td>60000</td>\n",
       "    </tr>\n",
       "  </tbody>\n",
       "</table>\n",
       "</div>"
      ],
      "text/plain": [
       "   50  afF3018e9cdd1dA  George  Mercer  Female douglascontreras@example.net  \\\n",
       "0  51  CccE5DAb6E288e5      Jo  Zavala    Male         pamela64@example.net   \n",
       "1  52  DfBDc3621D4bcec  Joshua   Carey  Female    dianashepherd@example.net   \n",
       "2  53  f55b0A249f5E44D  Rickey   Hobbs  Female    ingramtiffany@example.org   \n",
       "\n",
       "     +1-326-669-0118x4341  11-09-1941 Human resources officer  70000  \n",
       "0  001-859-448-9935x54536  23-11-1992            Nurse, adult  80000  \n",
       "1    001-274-739-8470x814  07-01-1915     Seismic interpreter  70000  \n",
       "2        241.179.9509x498  01-07-1910               Barrister  60000  "
      ]
     },
     "execution_count": 187,
     "metadata": {},
     "output_type": "execute_result"
    }
   ],
   "source": [
    "# a) Read the 'data.csv' file using pandas, skipping the first 50 rows.\n",
    "df1 = pd.read_csv(\"C:/Users/ASUS/Desktop/pwskills-asignments/Assignments/People Data.csv\", skiprows = 50)\n",
    "df1.head(3)  # Display the 3 records"
   ]
  },
  {
   "cell_type": "code",
   "execution_count": 188,
   "id": "110ea9b2-8bcf-45c6-93bd-83acabd88b48",
   "metadata": {},
   "outputs": [
    {
     "data": {
      "text/html": [
       "<div>\n",
       "<style scoped>\n",
       "    .dataframe tbody tr th:only-of-type {\n",
       "        vertical-align: middle;\n",
       "    }\n",
       "\n",
       "    .dataframe tbody tr th {\n",
       "        vertical-align: top;\n",
       "    }\n",
       "\n",
       "    .dataframe thead th {\n",
       "        text-align: right;\n",
       "    }\n",
       "</style>\n",
       "<table border=\"1\" class=\"dataframe\">\n",
       "  <thead>\n",
       "    <tr style=\"text-align: right;\">\n",
       "      <th></th>\n",
       "      <th>Last Name</th>\n",
       "      <th>Gender</th>\n",
       "      <th>Email</th>\n",
       "      <th>Phone</th>\n",
       "      <th>Salary</th>\n",
       "    </tr>\n",
       "  </thead>\n",
       "  <tbody>\n",
       "    <tr>\n",
       "      <th>0</th>\n",
       "      <td>Mahoney</td>\n",
       "      <td>Male</td>\n",
       "      <td>pwarner@example.org</td>\n",
       "      <td>857.139.8239</td>\n",
       "      <td>90000</td>\n",
       "    </tr>\n",
       "    <tr>\n",
       "      <th>1</th>\n",
       "      <td>Rivers</td>\n",
       "      <td>Female</td>\n",
       "      <td>fergusonkatherine@example.net</td>\n",
       "      <td>NaN</td>\n",
       "      <td>80000</td>\n",
       "    </tr>\n",
       "    <tr>\n",
       "      <th>2</th>\n",
       "      <td>Lowery</td>\n",
       "      <td>Female</td>\n",
       "      <td>fhoward@example.org</td>\n",
       "      <td>(599)782-0605</td>\n",
       "      <td>50000</td>\n",
       "    </tr>\n",
       "  </tbody>\n",
       "</table>\n",
       "</div>"
      ],
      "text/plain": [
       "  Last Name  Gender                          Email          Phone  Salary\n",
       "0   Mahoney    Male            pwarner@example.org   857.139.8239   90000\n",
       "1    Rivers  Female  fergusonkatherine@example.net            NaN   80000\n",
       "2    Lowery  Female            fhoward@example.org  (599)782-0605   50000"
      ]
     },
     "execution_count": 188,
     "metadata": {},
     "output_type": "execute_result"
    }
   ],
   "source": [
    "# b) Only read the columns: 'Last Name', ‘Gender’,’Email’,‘Phone’ and ‘Salary’ from the file.\n",
    "\n",
    "# columns to read\n",
    "columns_to_read = ['Last Name', 'Gender', 'Email', 'Phone', 'Salary']\n",
    "\n",
    "# Load the dataset, only reading the specified columns\n",
    "df2 = pd.read_csv(\"C:/Users/ASUS/Desktop/pwskills-asignments/Assignments/People Data.csv\", usecols=columns_to_read)\n",
    "df2.head(3)"
   ]
  },
  {
   "cell_type": "code",
   "execution_count": 189,
   "id": "af881a9f-6589-41d2-81f8-139a38618f3e",
   "metadata": {},
   "outputs": [
    {
     "data": {
      "text/html": [
       "<div>\n",
       "<style scoped>\n",
       "    .dataframe tbody tr th:only-of-type {\n",
       "        vertical-align: middle;\n",
       "    }\n",
       "\n",
       "    .dataframe tbody tr th {\n",
       "        vertical-align: top;\n",
       "    }\n",
       "\n",
       "    .dataframe thead th {\n",
       "        text-align: right;\n",
       "    }\n",
       "</style>\n",
       "<table border=\"1\" class=\"dataframe\">\n",
       "  <thead>\n",
       "    <tr style=\"text-align: right;\">\n",
       "      <th></th>\n",
       "      <th>Last Name</th>\n",
       "      <th>Gender</th>\n",
       "      <th>Email</th>\n",
       "      <th>Phone</th>\n",
       "      <th>Salary</th>\n",
       "    </tr>\n",
       "  </thead>\n",
       "  <tbody>\n",
       "    <tr>\n",
       "      <th>0</th>\n",
       "      <td>Mahoney</td>\n",
       "      <td>Male</td>\n",
       "      <td>pwarner@example.org</td>\n",
       "      <td>857.139.8239</td>\n",
       "      <td>90000</td>\n",
       "    </tr>\n",
       "    <tr>\n",
       "      <th>1</th>\n",
       "      <td>Rivers</td>\n",
       "      <td>Female</td>\n",
       "      <td>fergusonkatherine@example.net</td>\n",
       "      <td>NaN</td>\n",
       "      <td>80000</td>\n",
       "    </tr>\n",
       "    <tr>\n",
       "      <th>2</th>\n",
       "      <td>Lowery</td>\n",
       "      <td>Female</td>\n",
       "      <td>fhoward@example.org</td>\n",
       "      <td>(599)782-0605</td>\n",
       "      <td>50000</td>\n",
       "    </tr>\n",
       "    <tr>\n",
       "      <th>3</th>\n",
       "      <td>Hooper</td>\n",
       "      <td>Male</td>\n",
       "      <td>zjohnston@example.com</td>\n",
       "      <td>NaN</td>\n",
       "      <td>65000</td>\n",
       "    </tr>\n",
       "    <tr>\n",
       "      <th>4</th>\n",
       "      <td>Rice</td>\n",
       "      <td>Female</td>\n",
       "      <td>elin@example.net</td>\n",
       "      <td>(390)417-1635x3010</td>\n",
       "      <td>100000</td>\n",
       "    </tr>\n",
       "    <tr>\n",
       "      <th>5</th>\n",
       "      <td>Caldwell</td>\n",
       "      <td>Male</td>\n",
       "      <td>kaitlin13@example.net</td>\n",
       "      <td>8537800927</td>\n",
       "      <td>50000</td>\n",
       "    </tr>\n",
       "    <tr>\n",
       "      <th>6</th>\n",
       "      <td>Hoffman</td>\n",
       "      <td>Male</td>\n",
       "      <td>jeffharvey@example.com</td>\n",
       "      <td>093.655.7480x7895</td>\n",
       "      <td>60000</td>\n",
       "    </tr>\n",
       "    <tr>\n",
       "      <th>7</th>\n",
       "      <td>Andersen</td>\n",
       "      <td>Male</td>\n",
       "      <td>alicia33@example.org</td>\n",
       "      <td>4709522945</td>\n",
       "      <td>65000</td>\n",
       "    </tr>\n",
       "    <tr>\n",
       "      <th>8</th>\n",
       "      <td>Mays</td>\n",
       "      <td>Male</td>\n",
       "      <td>jake50@example.com</td>\n",
       "      <td>013.820.4758</td>\n",
       "      <td>50000</td>\n",
       "    </tr>\n",
       "    <tr>\n",
       "      <th>9</th>\n",
       "      <td>Mitchell</td>\n",
       "      <td>Male</td>\n",
       "      <td>lanechristina@example.net</td>\n",
       "      <td>(560)903-5068x4985</td>\n",
       "      <td>50000</td>\n",
       "    </tr>\n",
       "  </tbody>\n",
       "</table>\n",
       "</div>"
      ],
      "text/plain": [
       "  Last Name  Gender                          Email               Phone  Salary\n",
       "0   Mahoney    Male            pwarner@example.org        857.139.8239   90000\n",
       "1    Rivers  Female  fergusonkatherine@example.net                 NaN   80000\n",
       "2    Lowery  Female            fhoward@example.org       (599)782-0605   50000\n",
       "3    Hooper    Male          zjohnston@example.com                 NaN   65000\n",
       "4      Rice  Female               elin@example.net  (390)417-1635x3010  100000\n",
       "5  Caldwell    Male          kaitlin13@example.net          8537800927   50000\n",
       "6   Hoffman    Male         jeffharvey@example.com   093.655.7480x7895   60000\n",
       "7  Andersen    Male           alicia33@example.org          4709522945   65000\n",
       "8      Mays    Male             jake50@example.com        013.820.4758   50000\n",
       "9  Mitchell    Male      lanechristina@example.net  (560)903-5068x4985   50000"
      ]
     },
     "execution_count": 189,
     "metadata": {},
     "output_type": "execute_result"
    }
   ],
   "source": [
    "# c) Display the first 10 rows of the filtered dataset.\n",
    "df2.head(10)"
   ]
  },
  {
   "cell_type": "code",
   "execution_count": 190,
   "id": "49feba33-a8f0-4274-96a2-96c296fa90ff",
   "metadata": {},
   "outputs": [
    {
     "name": "stdout",
     "output_type": "stream",
     "text": [
      "995     90000\n",
      "996     50000\n",
      "997     60000\n",
      "998    100000\n",
      "999     90000\n",
      "Name: Salary, dtype: int64\n"
     ]
    }
   ],
   "source": [
    "# d) Extract the ‘Salary’' column as a Series and display its last 5 values.\n",
    "\n",
    "# Extract the 'Salary' column as a Series and display its last 5 values\n",
    "salary_series = df['Salary']\n",
    "print(salary_series.tail(5))"
   ]
  },
  {
   "cell_type": "markdown",
   "id": "574ee5b9-768d-4fc0-b8da-403fac22eae6",
   "metadata": {},
   "source": [
    "### 9.Filter and select rows from the People_Dataset, where the “Last Name' column contains the name 'Duke', 'Gender' column contains the word Female and ‘Salary’ should be less than 85000."
   ]
  },
  {
   "cell_type": "code",
   "execution_count": 191,
   "id": "c623b402-7dd8-447d-8f33-6d087554f567",
   "metadata": {},
   "outputs": [
    {
     "name": "stdout",
     "output_type": "stream",
     "text": [
      "     Index          User Id First Name Last Name  Gender  \\\n",
      "45      46  99A502C175C4EBd     Olivia      Duke  Female   \n",
      "210    211  DF17975CC0a0373    Katrina      Duke  Female   \n",
      "457    458  dcE1B7DE83c1076      Traci      Duke  Female   \n",
      "729    730  c9b482D7aa3e682     Lonnie      Duke  Female   \n",
      "\n",
      "                        Email         Phone Date of birth        Job Title  \\\n",
      "45        diana26@example.net  1.366476e+15    13-10-1934          Dentist   \n",
      "210       robin78@example.com  7.404340e+09    21-09-1935  Producer, radio   \n",
      "457  perryhoffman@example.org  1.903596e+13    11-02-1997        Herbalist   \n",
      "729   kevinkramer@example.net  9.826926e+09    12-05-2015     Nurse, adult   \n",
      "\n",
      "     Salary  \n",
      "45    60000  \n",
      "210   50000  \n",
      "457   50000  \n",
      "729   70000  \n"
     ]
    }
   ],
   "source": [
    "# filter the data frame using the given conditions\n",
    "filtered_df = df[(df['Last Name'].str.contains('Duke')) & \n",
    "                 (df['Gender'].str.contains('Female')) & \n",
    "                 (df['Salary'] < 85000)]\n",
    "\n",
    "# shows the filtered data frame\n",
    "print(filtered_df)"
   ]
  },
  {
   "cell_type": "markdown",
   "id": "1286f9e6-d090-4541-9754-772d291b3530",
   "metadata": {},
   "source": [
    "### 10. Create a 7*5 Dataframe in Pandas using a series generated from 35 random integers between 1 to 6?"
   ]
  },
  {
   "cell_type": "code",
   "execution_count": 192,
   "id": "a8d856c4-0bfb-45fe-97f0-8a42e9661e02",
   "metadata": {},
   "outputs": [
    {
     "name": "stdout",
     "output_type": "stream",
     "text": [
      "   0  1  2  3  4\n",
      "0  6  5  2  1  2\n",
      "1  5  1  3  1  3\n",
      "2  2  1  4  3  6\n",
      "3  4  1  1  6  2\n",
      "4  5  5  1  5  6\n",
      "5  6  1  5  4  1\n",
      "6  5  1  4  3  6\n"
     ]
    }
   ],
   "source": [
    "# create a series of 35 random integers between 1 and 6\n",
    "series = pd.Series(np.random.randint(1, 7, 35))\n",
    "\n",
    "# Reshape the series into a 7x5 DataFrame\n",
    "df = pd.DataFrame(series.values.reshape(7, 5))\n",
    "\n",
    "print(df)"
   ]
  },
  {
   "cell_type": "markdown",
   "id": "41c9e848-0727-4bc9-82ea-e7a1a9c6f7c1",
   "metadata": {},
   "source": [
    "### 11. Create two different Series, each of length 50, with the following criteria:\n",
    "\n",
    "a) The first Series should contain random numbers ranging from 10 to 50.\n",
    "\n",
    "b) The second Series should contain random numbers ranging from 100 to 1000.\n",
    "\n",
    "c) Create a DataFrame by 'joining these Series by column, and, change the names of the columns to 'col1', 'col2', etc."
   ]
  },
  {
   "cell_type": "code",
   "execution_count": 198,
   "id": "581166d3-93d2-4e90-8ace-0e22a68ca3f9",
   "metadata": {},
   "outputs": [
    {
     "data": {
      "text/html": [
       "<div>\n",
       "<style scoped>\n",
       "    .dataframe tbody tr th:only-of-type {\n",
       "        vertical-align: middle;\n",
       "    }\n",
       "\n",
       "    .dataframe tbody tr th {\n",
       "        vertical-align: top;\n",
       "    }\n",
       "\n",
       "    .dataframe thead th {\n",
       "        text-align: right;\n",
       "    }\n",
       "</style>\n",
       "<table border=\"1\" class=\"dataframe\">\n",
       "  <thead>\n",
       "    <tr style=\"text-align: right;\">\n",
       "      <th></th>\n",
       "      <th>col1</th>\n",
       "      <th>col2</th>\n",
       "    </tr>\n",
       "  </thead>\n",
       "  <tbody>\n",
       "    <tr>\n",
       "      <th>0</th>\n",
       "      <td>10</td>\n",
       "      <td>847</td>\n",
       "    </tr>\n",
       "    <tr>\n",
       "      <th>1</th>\n",
       "      <td>36</td>\n",
       "      <td>439</td>\n",
       "    </tr>\n",
       "    <tr>\n",
       "      <th>2</th>\n",
       "      <td>39</td>\n",
       "      <td>636</td>\n",
       "    </tr>\n",
       "    <tr>\n",
       "      <th>3</th>\n",
       "      <td>45</td>\n",
       "      <td>923</td>\n",
       "    </tr>\n",
       "    <tr>\n",
       "      <th>4</th>\n",
       "      <td>27</td>\n",
       "      <td>144</td>\n",
       "    </tr>\n",
       "  </tbody>\n",
       "</table>\n",
       "</div>"
      ],
      "text/plain": [
       "   col1  col2\n",
       "0    10   847\n",
       "1    36   439\n",
       "2    39   636\n",
       "3    45   923\n",
       "4    27   144"
      ]
     },
     "execution_count": 198,
     "metadata": {},
     "output_type": "execute_result"
    }
   ],
   "source": [
    "# create the first series with 50 random numbers ranging from 10 to 50\n",
    "series1 = pd.Series(np.random.randint(10, 51, 50))\n",
    "\n",
    "# Create the second Series with 50 random numbers ranging from 100 to 1000\n",
    "series2 = pd.Series(np.random.randint(100, 1001, 50))\n",
    "\n",
    "# create a data frame by joining these ceries by column\n",
    "df3 = pd.DataFrame({'col1': series1, 'col2': series2})\n",
    "df3.head(5)"
   ]
  },
  {
   "cell_type": "markdown",
   "id": "42856938-e20b-4ba4-a3dc-22693433a765",
   "metadata": {},
   "source": [
    "### 12. Perform the following operations using people data set:\n",
    "\n",
    "a) Delete the 'Email', 'Phone', and 'Date of birth' columns from the dataset.\n",
    "\n",
    "b) Delete the rows containing any missing values.\n",
    "\n",
    "d) Print the final output also."
   ]
  },
  {
   "cell_type": "code",
   "execution_count": 206,
   "id": "f59f0c05-7702-40a3-914e-c9ea98eda6e5",
   "metadata": {},
   "outputs": [
    {
     "data": {
      "text/html": [
       "<div>\n",
       "<style scoped>\n",
       "    .dataframe tbody tr th:only-of-type {\n",
       "        vertical-align: middle;\n",
       "    }\n",
       "\n",
       "    .dataframe tbody tr th {\n",
       "        vertical-align: top;\n",
       "    }\n",
       "\n",
       "    .dataframe thead th {\n",
       "        text-align: right;\n",
       "    }\n",
       "</style>\n",
       "<table border=\"1\" class=\"dataframe\">\n",
       "  <thead>\n",
       "    <tr style=\"text-align: right;\">\n",
       "      <th></th>\n",
       "      <th>Index</th>\n",
       "      <th>User Id</th>\n",
       "      <th>First Name</th>\n",
       "      <th>Last Name</th>\n",
       "      <th>Gender</th>\n",
       "      <th>Email</th>\n",
       "      <th>Phone</th>\n",
       "      <th>Date of birth</th>\n",
       "      <th>Job Title</th>\n",
       "      <th>Salary</th>\n",
       "    </tr>\n",
       "  </thead>\n",
       "  <tbody>\n",
       "    <tr>\n",
       "      <th>0</th>\n",
       "      <td>1</td>\n",
       "      <td>8717bbf45cCDbEe</td>\n",
       "      <td>Shelia</td>\n",
       "      <td>Mahoney</td>\n",
       "      <td>Male</td>\n",
       "      <td>pwarner@example.org</td>\n",
       "      <td>857.139.8239</td>\n",
       "      <td>27-01-2014</td>\n",
       "      <td>Probation officer</td>\n",
       "      <td>90000</td>\n",
       "    </tr>\n",
       "    <tr>\n",
       "      <th>1</th>\n",
       "      <td>2</td>\n",
       "      <td>3d5AD30A4cD38ed</td>\n",
       "      <td>Jo</td>\n",
       "      <td>Rivers</td>\n",
       "      <td>Female</td>\n",
       "      <td>fergusonkatherine@example.net</td>\n",
       "      <td>NaN</td>\n",
       "      <td>26-07-1931</td>\n",
       "      <td>Dancer</td>\n",
       "      <td>80000</td>\n",
       "    </tr>\n",
       "    <tr>\n",
       "      <th>2</th>\n",
       "      <td>3</td>\n",
       "      <td>810Ce0F276Badec</td>\n",
       "      <td>Sheryl</td>\n",
       "      <td>Lowery</td>\n",
       "      <td>Female</td>\n",
       "      <td>fhoward@example.org</td>\n",
       "      <td>(599)782-0605</td>\n",
       "      <td>25-11-2013</td>\n",
       "      <td>Copy</td>\n",
       "      <td>50000</td>\n",
       "    </tr>\n",
       "  </tbody>\n",
       "</table>\n",
       "</div>"
      ],
      "text/plain": [
       "   Index          User Id First Name Last Name  Gender  \\\n",
       "0      1  8717bbf45cCDbEe     Shelia   Mahoney    Male   \n",
       "1      2  3d5AD30A4cD38ed         Jo    Rivers  Female   \n",
       "2      3  810Ce0F276Badec     Sheryl    Lowery  Female   \n",
       "\n",
       "                           Email          Phone Date of birth  \\\n",
       "0            pwarner@example.org   857.139.8239    27-01-2014   \n",
       "1  fergusonkatherine@example.net            NaN    26-07-1931   \n",
       "2            fhoward@example.org  (599)782-0605    25-11-2013   \n",
       "\n",
       "           Job Title  Salary  \n",
       "0  Probation officer   90000  \n",
       "1             Dancer   80000  \n",
       "2               Copy   50000  "
      ]
     },
     "execution_count": 206,
     "metadata": {},
     "output_type": "execute_result"
    }
   ],
   "source": [
    "# Read the dataset\n",
    "df = pd.read_csv(\"C:/Users/ASUS/Desktop/pwskills-asignments/Assignments/People Data.csv\")\n",
    "df.head(3)  "
   ]
  },
  {
   "cell_type": "code",
   "execution_count": 207,
   "id": "9e4511c3-e908-4c57-816d-20962d1b1b00",
   "metadata": {},
   "outputs": [
    {
     "data": {
      "text/html": [
       "<div>\n",
       "<style scoped>\n",
       "    .dataframe tbody tr th:only-of-type {\n",
       "        vertical-align: middle;\n",
       "    }\n",
       "\n",
       "    .dataframe tbody tr th {\n",
       "        vertical-align: top;\n",
       "    }\n",
       "\n",
       "    .dataframe thead th {\n",
       "        text-align: right;\n",
       "    }\n",
       "</style>\n",
       "<table border=\"1\" class=\"dataframe\">\n",
       "  <thead>\n",
       "    <tr style=\"text-align: right;\">\n",
       "      <th></th>\n",
       "      <th>Index</th>\n",
       "      <th>User Id</th>\n",
       "      <th>First Name</th>\n",
       "      <th>Last Name</th>\n",
       "      <th>Gender</th>\n",
       "      <th>Job Title</th>\n",
       "      <th>Salary</th>\n",
       "    </tr>\n",
       "  </thead>\n",
       "  <tbody>\n",
       "    <tr>\n",
       "      <th>0</th>\n",
       "      <td>1</td>\n",
       "      <td>8717bbf45cCDbEe</td>\n",
       "      <td>Shelia</td>\n",
       "      <td>Mahoney</td>\n",
       "      <td>Male</td>\n",
       "      <td>Probation officer</td>\n",
       "      <td>90000</td>\n",
       "    </tr>\n",
       "    <tr>\n",
       "      <th>1</th>\n",
       "      <td>2</td>\n",
       "      <td>3d5AD30A4cD38ed</td>\n",
       "      <td>Jo</td>\n",
       "      <td>Rivers</td>\n",
       "      <td>Female</td>\n",
       "      <td>Dancer</td>\n",
       "      <td>80000</td>\n",
       "    </tr>\n",
       "    <tr>\n",
       "      <th>2</th>\n",
       "      <td>3</td>\n",
       "      <td>810Ce0F276Badec</td>\n",
       "      <td>Sheryl</td>\n",
       "      <td>Lowery</td>\n",
       "      <td>Female</td>\n",
       "      <td>Copy</td>\n",
       "      <td>50000</td>\n",
       "    </tr>\n",
       "  </tbody>\n",
       "</table>\n",
       "</div>"
      ],
      "text/plain": [
       "   Index          User Id First Name Last Name  Gender          Job Title  \\\n",
       "0      1  8717bbf45cCDbEe     Shelia   Mahoney    Male  Probation officer   \n",
       "1      2  3d5AD30A4cD38ed         Jo    Rivers  Female             Dancer   \n",
       "2      3  810Ce0F276Badec     Sheryl    Lowery  Female               Copy   \n",
       "\n",
       "   Salary  \n",
       "0   90000  \n",
       "1   80000  \n",
       "2   50000  "
      ]
     },
     "execution_count": 207,
     "metadata": {},
     "output_type": "execute_result"
    }
   ],
   "source": [
    "# a) Delete the 'Email', 'Phone', and 'Date of birth' columns\n",
    "df = df.drop(columns=['Email', 'Phone', 'Date of birth'])\n",
    "# b) Delete the rows containing any missing values\n",
    "df = df.dropna()\n",
    "df.head(3)"
   ]
  },
  {
   "cell_type": "code",
   "execution_count": 208,
   "id": "72c0ee7b-737c-4f1a-a6b0-6679100a45fc",
   "metadata": {},
   "outputs": [
    {
     "name": "stdout",
     "output_type": "stream",
     "text": [
      "Index         0\n",
      "User Id       0\n",
      "First Name    0\n",
      "Last Name     0\n",
      "Gender        0\n",
      "Job Title     0\n",
      "Salary        0\n",
      "dtype: int64\n"
     ]
    }
   ],
   "source": [
    "# Check for null values in each column\n",
    "null_counts = df.isnull().sum()\n",
    "print(null_counts)"
   ]
  },
  {
   "cell_type": "markdown",
   "id": "56042763-57c9-4244-bd43-82d2ae5838ff",
   "metadata": {},
   "source": [
    "### 13.Create two NumPy arrays, x and y, each containing 100 random float values between 0 and 1. Perform the \n",
    "following tasks using Matplotlib and NumPy:\n",
    "\n",
    "a) Create a scatter plot using x and y, setting the color of the points to red and the marker style to 'o'.\n",
    "\n",
    "b) Add a horizontal line at y = 0.5 using a dashed line style and label it as 'y = 0.5'.\n",
    "\n",
    "c) Add a vertical line at x = 0.5 using a dotted line style and label it as 'x = 0.5'.\n",
    "\n",
    "d) Label the x-axis as 'X-axis' and the y-axis as 'Y-axis'.\n",
    "\n",
    "e) Set the title of the plot as 'Advanced Scatter Plot of Random Values'.\n",
    "\n",
    "f) Display a legend for the scatter plot, the horizontal line, and the vertical line."
   ]
  },
  {
   "cell_type": "code",
   "execution_count": 210,
   "id": "d09ea8f3-f74e-44a6-a220-26349b9414bd",
   "metadata": {},
   "outputs": [],
   "source": [
    "import numpy as np\n",
    "import matplotlib.pyplot as plt\n",
    "\n",
    "# create 2 Numpy arrays, x and y, each containing 100 random float values between 0 and 1\n",
    "x = np.random.rand(100)\n",
    "y = np.random.rand(100)"
   ]
  },
  {
   "cell_type": "code",
   "execution_count": 213,
   "id": "48777151-af7c-4048-860f-18118d7eb3d3",
   "metadata": {},
   "outputs": [
    {
     "data": {
      "image/png": "[encoded data removed]",
      "text/plain": [
       "<Figure size 640x480 with 1 Axes>"
      ]
     },
     "metadata": {},
     "output_type": "display_data"
    }
   ],
   "source": [
    "# a) Create a scatter plot using x and y, setting the color of the points to red and the marker style to 'o'\n",
    "plt.scatter(x, y, color='red', marker='o', label='Scatter Plot')\n",
    "\n",
    "# b) Add a horizontal line at y = 0.5 using a dashed line style and label it as 'y = 0.5'\n",
    "plt.axhline(y=0.5, color='black', linestyle='--', label='y = 0.5')\n",
    "\n",
    "# c) Add a vertical line at x = 0.5 using a dotted line style and label it as 'x = 0.5'\n",
    "plt.axvline(x=0.5, color='black', linestyle=':', label='x = 0.5')\n",
    "\n",
    "# d) Label the x-axis as 'X-axis' and the y-axis as 'Y-axis'\n",
    "plt.xlabel('X-axis')\n",
    "plt.ylabel('Y-axis')\n",
    "\n",
    "# e) Set the title of the plot as 'Advanced Scatter Plot of Random Values'\n",
    "plt.title('Advanced Scatter Plot of Random Values')\n",
    "\n",
    "# f) Display a legend for the scatter plot, the horizontal line, and the vertical line\n",
    "plt.legend()\n",
    "\n",
    "# display the plot\n",
    "plt.show()"
   ]
  },
  {
   "cell_type": "markdown",
   "id": "f5f4117b-4f9b-419a-9943-ba17468987ba",
   "metadata": {},
   "source": [
    "### 14. Create a time-series dataset in a Pandas DataFrame with columns: 'Date', 'Temperature', 'Humidity' and Perform the following tasks using Matplotlib:\n",
    "\n",
    "a) Plot the 'Temperature' and 'Humidity' on the same plot with different y-axes (left y-axis for 'Temperature' and right y-axis for 'Humidity').\n",
    "\n",
    "b) Label the x-axis as 'Date'.\n",
    "\n",
    "c) Set the title of the plot as 'Tem\u0018erature and Humidity Over Time'."
   ]
  },
  {
   "cell_type": "code",
   "execution_count": 222,
   "id": "0ad10ada-995d-4aa6-90f6-fec80f03183f",
   "metadata": {},
   "outputs": [],
   "source": [
    "import matplotlib.pyplot as plt\n",
    "import matplotlib.dates as mdates\n",
    "\n",
    "# set the seed for reproducibility\n",
    "np.random.seed(0)\n",
    "\n",
    "# Create a date range for the last 30 days\n",
    "dates = pd.date_range(start='1/1/2023', periods=30)"
   ]
  },
  {
   "cell_type": "code",
   "execution_count": 223,
   "id": "bf6e144e-9edf-4e76-84d9-4a6e2529ec18",
   "metadata": {},
   "outputs": [
    {
     "data": {
      "text/html": [
       "<div>\n",
       "<style scoped>\n",
       "    .dataframe tbody tr th:only-of-type {\n",
       "        vertical-align: middle;\n",
       "    }\n",
       "\n",
       "    .dataframe tbody tr th {\n",
       "        vertical-align: top;\n",
       "    }\n",
       "\n",
       "    .dataframe thead th {\n",
       "        text-align: right;\n",
       "    }\n",
       "</style>\n",
       "<table border=\"1\" class=\"dataframe\">\n",
       "  <thead>\n",
       "    <tr style=\"text-align: right;\">\n",
       "      <th></th>\n",
       "      <th>Date</th>\n",
       "      <th>Temperature</th>\n",
       "      <th>Humidity</th>\n",
       "    </tr>\n",
       "  </thead>\n",
       "  <tbody>\n",
       "    <tr>\n",
       "      <th>0</th>\n",
       "      <td>2023-01-01</td>\n",
       "      <td>25.488135</td>\n",
       "      <td>63.227781</td>\n",
       "    </tr>\n",
       "    <tr>\n",
       "      <th>1</th>\n",
       "      <td>2023-01-02</td>\n",
       "      <td>27.151894</td>\n",
       "      <td>88.711684</td>\n",
       "    </tr>\n",
       "    <tr>\n",
       "      <th>2</th>\n",
       "      <td>2023-01-03</td>\n",
       "      <td>26.027634</td>\n",
       "      <td>72.807517</td>\n",
       "    </tr>\n",
       "  </tbody>\n",
       "</table>\n",
       "</div>"
      ],
      "text/plain": [
       "        Date  Temperature   Humidity\n",
       "0 2023-01-01    25.488135  63.227781\n",
       "1 2023-01-02    27.151894  88.711684\n",
       "2 2023-01-03    26.027634  72.807517"
      ]
     },
     "execution_count": 223,
     "metadata": {},
     "output_type": "execute_result"
    }
   ],
   "source": [
    "# Create a data frame with a 'Date' column and 'Temperature' and 'Humidity' columns filled with random data\n",
    "df = pd.DataFrame({\n",
    "    'Date': dates,\n",
    "    'Temperature': np.random.rand(30) * 10 + 20,  # Random temperatures between 20 and 30\n",
    "    'Humidity': np.random.rand(30) * 50 + 50       # Random humidities between 50 and 100\n",
    "})\n",
    "df .head(3)"
   ]
  },
  {
   "cell_type": "code",
   "execution_count": 224,
   "id": "815a32bc-ac16-40be-9faf-f6ba9e2d0670",
   "metadata": {},
   "outputs": [],
   "source": [
    "# Convert 'Date' column to datetime if it's not already\n",
    "df['Date'] = pd.to_datetime(df['Date'])"
   ]
  },
  {
   "cell_type": "markdown",
   "id": "9292ca9c-e5f1-4d22-b222-710e6d2a59d4",
   "metadata": {},
   "source": []
  },
  {
   "cell_type": "code",
   "execution_count": 225,
   "id": "a6816dfe-ed20-4dea-a3a3-f8ea112aa2ea",
   "metadata": {},
   "outputs": [
    {
     "data": {
      "image/png": "[encoded data removed]",
      "text/plain": [
       "<Figure size 640x480 with 2 Axes>"
      ]
     },
     "metadata": {},
     "output_type": "display_data"
    }
   ],
   "source": [
    "# Create figure and axis objects\n",
    "fig, ax1 = plt.subplots()\n",
    "\n",
    "# Plot 'Temperature' on the left y-axis\n",
    "color = 'tab:red'\n",
    "ax1.set_xlabel('Date')\n",
    "ax1.set_ylabel('Temperature', color=color)\n",
    "ax1.plot(df['Date'], df['Temperature'], color=color)\n",
    "ax1.tick_params(axis='y', labelcolor=color)\n",
    "\n",
    "# Create a second y-axis that shares the same x-axis\n",
    "ax2 = ax1.twinx()\n",
    "\n",
    "# Plot 'Humidity' on the right y-axis\n",
    "color = 'tab:blue'\n",
    "ax2.set_ylabel('Humidity', color=color)\n",
    "ax2.plot(df['Date'], df['Humidity'], color=color)\n",
    "ax2.tick_params(axis='y', labelcolor=color)\n",
    "\n",
    "# Format the x-axis to display dates properly\n",
    "ax1.xaxis.set_major_formatter(mdates.DateFormatter('%Y-%m-%d'))\n",
    "fig.autofmt_xdate()\n",
    "\n",
    "# Display the plot\n",
    "plt.show()"
   ]
  },
  {
   "cell_type": "markdown",
   "id": "81c46f30-308c-4051-a868-a5c2677e369c",
   "metadata": {},
   "source": [
    "### 15. Create a NumPy array data containing 1000 samples from a normal distribution. Perform the following tasks using Matplotlib:\n",
    "\n",
    "a) Plot a histogram of the data with 30 bins.\r\n",
    "\r\n",
    "b) Overlay a li p \u0018lorepe\u0018resenting the normal distribution'p \u0018robability density function (PDF).\r\n",
    "\r\n",
    "c) Label the x-axis as 'Value' and the y-axis as 'Frequency/Probability'.\r\n",
    "\r\n",
    "d) Set the title op the \u0018lot as 'Histogram with PDF Over\n",
    "\n",
    "### 16. Set the title of the plot as 'Histogram with PDF Overlay'.lay'.\r\n"
   ]
  },
  {
   "cell_type": "code",
   "execution_count": 227,
   "id": "ddc78c4b-165e-445c-89e4-03419cee6d1b",
   "metadata": {},
   "outputs": [
    {
     "data": {
      "image/png": "[encoded data removed]",
      "text/plain": [
       "<Figure size 640x480 with 1 Axes>"
      ]
     },
     "metadata": {},
     "output_type": "display_data"
    }
   ],
   "source": [
    "import numpy as np\n",
    "import matplotlib.pyplot as plt\n",
    "from scipy.stats import norm\n",
    "\n",
    "# Generate 1000 samples from a normal distribution\n",
    "data = np.random.normal(size=1000)\n",
    "\n",
    "# Create a histogram with 30 bins\n",
    "n, bins, patches = plt.hist(data, bins=30, density=True, alpha=0.6, color='g')\n",
    "\n",
    "# Overlay a line plot representing the PDF\n",
    "mu, std = norm.fit(data)\n",
    "xmin, xmax = plt.xlim()\n",
    "x = np.linspace(xmin, xmax, 100)\n",
    "p = norm.pdf(x, mu, std)\n",
    "plt.plot(x, p, 'k', linewidth=2)\n",
    "\n",
    "# Label the x-axis as 'Value' and the y-axis as 'Frequency/Probability'\n",
    "plt.xlabel('Value')\n",
    "plt.ylabel('Frequency/Probability')\n",
    "\n",
    "#16) Set the title of the plot\n",
    "plt.title('Histogram with PDF Overlay')\n",
    "\n",
    "# Display the plot\n",
    "plt.show()"
   ]
  },
  {
   "cell_type": "markdown",
   "id": "a2b2aaa9-0e5f-4871-8a5b-b89d35766b89",
   "metadata": {},
   "source": [
    "### 17.Create a Seaborn scatter plot of two random arrays, color points based on their position relative to the origin (quadrants), add a legend, label the axes, and set the title as 'Quadrant-wise Scatter Plot'."
   ]
  },
  {
   "cell_type": "code",
   "execution_count": 230,
   "id": "a82db4ef-0ecb-41a6-99aa-61f55d55fa1f",
   "metadata": {},
   "outputs": [
    {
     "data": {
      "image/png": "[encoded data removed]",
      "text/plain": [
       "<Figure size 500x400 with 1 Axes>"
      ]
     },
     "metadata": {},
     "output_type": "display_data"
    }
   ],
   "source": [
    "import seaborn as sns\n",
    "import matplotlib.pyplot as plt\n",
    "\n",
    "# Generate two random arrays of the same size\n",
    "np.random.seed(0)  # For reproducibility\n",
    "size = 100\n",
    "x = np.random.normal(0, 1, size)\n",
    "y = np.random.normal(0, 1, size)\n",
    "\n",
    "# Determine the quadrant for each point\n",
    "quadrants = np.zeros(size, dtype=int)\n",
    "quadrants[(x >= 0) & (y >= 0)] = 1  # First quadrant\n",
    "quadrants[(x < 0) & (y >= 0)] = 2   # Second quadrant\n",
    "quadrants[(x < 0) & (y < 0)] = 3    # Third quadrant\n",
    "quadrants[(x >= 0) & (y < 0)] = 4   # Fourth quadrant\n",
    "\n",
    "# Create a DataFrame with the arrays and their quadrant information\n",
    "df = pd.DataFrame({\n",
    "    'x': x,\n",
    "    'y': y,\n",
    "    'Quadrant': quadrants\n",
    "})\n",
    "\n",
    "# Create a color palette for the quadrants\n",
    "palette = {1: 'blue', 2: 'green', 3: 'red', 4: 'purple'}\n",
    "\n",
    "# Set the figure size\n",
    "plt.figure(figsize=(5, 4))\n",
    "\n",
    "# Create a scatter plot with Seaborn, color-coding points based on their quadrant\n",
    "sns.scatterplot(data=df, x='x', y='y', hue='Quadrant', palette=palette, legend='full')\n",
    "\n",
    "# Label the axes\n",
    "plt.xlabel('X')\n",
    "plt.ylabel('Y')\n",
    "\n",
    "# Set the title of the plot\n",
    "plt.title('Quadrant-wise Scatter Plot')\n",
    "\n",
    "# Display the plot\n",
    "plt.show()"
   ]
  },
  {
   "cell_type": "markdown",
   "id": "8098f9ca-2448-43f7-a356-7f83aa0717a3",
   "metadata": {},
   "source": [
    "### 18. With Bokeh, plot a line chart of a sine wave function, add grid lines, label the axes, and set the title as 'Sine Wave Function."
   ]
  },
  {
   "cell_type": "code",
   "execution_count": null,
   "id": "7f06a0e7-1736-429e-a1ee-c25dc2fa47d6",
   "metadata": {},
   "outputs": [],
   "source": []
  }
 ],
 "metadata": {
  "kernelspec": {
   "display_name": "Python 3 (ipykernel)",
   "language": "python",
   "name": "python3"
  },
  "language_info": {
   "codemirror_mode": {
    "name": "ipython",
    "version": 3
   },
   "file_extension": ".py",
   "mimetype": "text/x-python",
   "name": "python",
   "nbconvert_exporter": "python",
   "pygments_lexer": "ipython3",
   "version": "3.11.7"
  }
 },
 "nbformat": 4,
 "nbformat_minor": 5
}
